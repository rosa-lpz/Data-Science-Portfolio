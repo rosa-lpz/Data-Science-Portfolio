{
 "cells": [
  {
   "cell_type": "markdown",
   "id": "459f7a6d-6da9-462a-832b-5c604685ced7",
   "metadata": {},
   "source": [
    "# Libraries"
   ]
  },
  {
   "cell_type": "code",
   "execution_count": 3,
   "id": "b886d760-a42b-4994-8b5b-4ff9bd2c49c2",
   "metadata": {},
   "outputs": [],
   "source": [
    "import pandas as pd"
   ]
  },
  {
   "cell_type": "markdown",
   "id": "e0dad6ef-813a-479b-91f8-ba4f94b296fd",
   "metadata": {},
   "source": [
    "# Data"
   ]
  },
  {
   "cell_type": "code",
   "execution_count": 7,
   "id": "59eb055b-9678-4e5d-8b60-bca96d94ee60",
   "metadata": {},
   "outputs": [],
   "source": [
    "%run \"variables.py\""
   ]
  },
  {
   "cell_type": "code",
   "execution_count": 5,
   "id": "91d1726c-9a29-4ea6-9cd3-4bb554e94173",
   "metadata": {},
   "outputs": [],
   "source": [
    "def getData(file_names):\n",
    "    #Import and print data  \n",
    "    try:\n",
    "        # Loop through the files and read them\n",
    "        for file_name, df_name in file_names:\n",
    "            df = pd.read_csv(f\"{DATA_DIR}/{file_name}\")\n",
    "            print(f\"{df_name} DataFrame \\n\")\n",
    "            display(df.head())\n",
    "            \n",
    "    except FileNotFoundError:\n",
    "        print(\"One or more CSV files not found.\")\n",
    "    except Exception as e:\n",
    "        print(f\"An error occurred: {e}\")"
   ]
  },
  {
   "cell_type": "markdown",
   "id": "ebe78ec5-c517-4e27-a396-b2205ac90f00",
   "metadata": {},
   "source": [
    "## Initial dataframes"
   ]
  },
  {
   "cell_type": "code",
   "execution_count": null,
   "id": "c3cf2f77-4a0a-466d-b3b0-32a6f1d0692b",
   "metadata": {},
   "outputs": [],
   "source": []
  },
  {
   "cell_type": "markdown",
   "id": "dda4721f-3606-4ceb-a44e-7b2ce2decfb3",
   "metadata": {},
   "source": [
    "# Data exploration"
   ]
  },
  {
   "cell_type": "code",
   "execution_count": 11,
   "id": "a98338cb-09bb-4c1e-a960-df00b091ff7d",
   "metadata": {},
   "outputs": [
    {
     "ename": "NameError",
     "evalue": "name 'df_telemetry' is not defined",
     "output_type": "error",
     "traceback": [
      "\u001b[0;31m---------------------------------------------------------------------------\u001b[0m",
      "\u001b[0;31mNameError\u001b[0m                                 Traceback (most recent call last)",
      "Cell \u001b[0;32mIn[11], line 2\u001b[0m\n\u001b[1;32m      1\u001b[0m \u001b[38;5;66;03m# Examine Data Shape and Data Types\u001b[39;00m\n\u001b[0;32m----> 2\u001b[0m dataframes \u001b[38;5;241m=\u001b[39m [df_telemetry, df_errors, df_machines, df_maint, df_failures]\n\u001b[1;32m      3\u001b[0m dataframe_names \u001b[38;5;241m=\u001b[39m [\u001b[38;5;124m'\u001b[39m\u001b[38;5;124mdf_telemetry\u001b[39m\u001b[38;5;124m'\u001b[39m, \u001b[38;5;124m'\u001b[39m\u001b[38;5;124mdf_errors\u001b[39m\u001b[38;5;124m'\u001b[39m, \u001b[38;5;124m'\u001b[39m\u001b[38;5;124mdf_machines\u001b[39m\u001b[38;5;124m'\u001b[39m, \u001b[38;5;124m'\u001b[39m\u001b[38;5;124mdf_maint\u001b[39m\u001b[38;5;124m'\u001b[39m, \u001b[38;5;124m'\u001b[39m\u001b[38;5;124mdf_failures\u001b[39m\u001b[38;5;124m'\u001b[39m]\n\u001b[1;32m      5\u001b[0m \u001b[38;5;28;01mfor\u001b[39;00m i, df \u001b[38;5;129;01min\u001b[39;00m \u001b[38;5;28menumerate\u001b[39m(dataframes):\n",
      "\u001b[0;31mNameError\u001b[0m: name 'df_telemetry' is not defined"
     ]
    }
   ],
   "source": [
    "# Examine Data Shape and Data Types\n",
    "dataframes = [df_telemetry, df_errors, df_machines, df_maint, df_failures]\n",
    "dataframe_names = ['df_telemetry', 'df_errors', 'df_machines', 'df_maint', 'df_failures']\n",
    "\n",
    "for i, df in enumerate(dataframes):\n",
    "    print(f\"DataFrame: {dataframe_names[i]}\")\n",
    "    print(\"Shape:\", df.shape)\n",
    "    print(\"Data Types:\\n\", df.dtypes)\n",
    "    print(\"Missing Values:\\n\", df.isnull().sum())\n",
    "\n",
    "    # Analyze Numerical Features\n",
    "    numerical_cols = df.select_dtypes(include=['number']).columns\n",
    "    if len(numerical_cols) > 0:\n",
    "        print(\"\\nNumerical Features:\")\n",
    "        print(df[numerical_cols].describe())\n",
    "    else:\n",
    "        print(\"\\nNo Numerical Features\")\n",
    "\n",
    "    # Analyze Categorical Features\n",
    "    categorical_cols = df.select_dtypes(include=['object']).columns\n",
    "    for col in categorical_cols:\n",
    "        print(f\"\\nCategorical Feature: {col}\")\n",
    "        print(df[col].value_counts())\n",
    "    print(\"-\" * 50)"
   ]
  },
  {
   "cell_type": "markdown",
   "id": "15ef92c4-108c-42e9-b006-bdb7e1af3fbb",
   "metadata": {},
   "source": [
    "# Data Pre-processing"
   ]
  },
  {
   "cell_type": "code",
   "execution_count": 27,
   "id": "5a509668-7773-4efa-a680-f2d7f955d1c3",
   "metadata": {},
   "outputs": [],
   "source": [
    "# Format date & time. Sort based on date for better readability\n",
    "tables = [telemetry_df, maint_df, failures_df, errors_df]\n",
    "for df in tables:\n",
    "    df[\"datetime\"] = pd.to_datetime(df[\"datetime\"], format=\"%Y-%m-%d %H:%M:%S\")\n",
    "    df.sort_values([\"datetime\", \"machineID\"], inplace=True, ignore_index=True)"
   ]
  },
  {
   "cell_type": "markdown",
   "id": "da26ab5f-da36-4f27-802d-46964aa11855",
   "metadata": {},
   "source": [
    "## Telemetry"
   ]
  },
  {
   "cell_type": "code",
   "execution_count": 28,
   "id": "5612be12-4064-48d6-8768-e9fd18060aa5",
   "metadata": {},
   "outputs": [
    {
     "name": "stdout",
     "output_type": "stream",
     "text": [
      "Shape of the Telemetry Records: (876100, 6)\n",
      "\n",
      "\n"
     ]
    },
    {
     "data": {
      "text/html": [
       "<div>\n",
       "<style scoped>\n",
       "    .dataframe tbody tr th:only-of-type {\n",
       "        vertical-align: middle;\n",
       "    }\n",
       "\n",
       "    .dataframe tbody tr th {\n",
       "        vertical-align: top;\n",
       "    }\n",
       "\n",
       "    .dataframe thead th {\n",
       "        text-align: right;\n",
       "    }\n",
       "</style>\n",
       "<table border=\"1\" class=\"dataframe\">\n",
       "  <thead>\n",
       "    <tr style=\"text-align: right;\">\n",
       "      <th></th>\n",
       "      <th>datetime</th>\n",
       "      <th>machineID</th>\n",
       "      <th>volt</th>\n",
       "      <th>rotate</th>\n",
       "      <th>pressure</th>\n",
       "      <th>vibration</th>\n",
       "    </tr>\n",
       "  </thead>\n",
       "  <tbody>\n",
       "    <tr>\n",
       "      <th>0</th>\n",
       "      <td>2015-01-01 06:00:00</td>\n",
       "      <td>1</td>\n",
       "      <td>176.217853</td>\n",
       "      <td>418.504078</td>\n",
       "      <td>113.077935</td>\n",
       "      <td>45.087686</td>\n",
       "    </tr>\n",
       "    <tr>\n",
       "      <th>1</th>\n",
       "      <td>2015-01-01 06:00:00</td>\n",
       "      <td>2</td>\n",
       "      <td>176.558913</td>\n",
       "      <td>424.624162</td>\n",
       "      <td>76.005332</td>\n",
       "      <td>43.767049</td>\n",
       "    </tr>\n",
       "    <tr>\n",
       "      <th>2</th>\n",
       "      <td>2015-01-01 06:00:00</td>\n",
       "      <td>3</td>\n",
       "      <td>185.482043</td>\n",
       "      <td>461.211137</td>\n",
       "      <td>87.453199</td>\n",
       "      <td>28.216864</td>\n",
       "    </tr>\n",
       "    <tr>\n",
       "      <th>3</th>\n",
       "      <td>2015-01-01 06:00:00</td>\n",
       "      <td>4</td>\n",
       "      <td>169.710847</td>\n",
       "      <td>463.646727</td>\n",
       "      <td>95.929877</td>\n",
       "      <td>38.400372</td>\n",
       "    </tr>\n",
       "    <tr>\n",
       "      <th>4</th>\n",
       "      <td>2015-01-01 06:00:00</td>\n",
       "      <td>5</td>\n",
       "      <td>165.082899</td>\n",
       "      <td>452.283576</td>\n",
       "      <td>84.591722</td>\n",
       "      <td>40.298803</td>\n",
       "    </tr>\n",
       "  </tbody>\n",
       "</table>\n",
       "</div>"
      ],
      "text/plain": [
       "             datetime  machineID        volt      rotate    pressure  \\\n",
       "0 2015-01-01 06:00:00          1  176.217853  418.504078  113.077935   \n",
       "1 2015-01-01 06:00:00          2  176.558913  424.624162   76.005332   \n",
       "2 2015-01-01 06:00:00          3  185.482043  461.211137   87.453199   \n",
       "3 2015-01-01 06:00:00          4  169.710847  463.646727   95.929877   \n",
       "4 2015-01-01 06:00:00          5  165.082899  452.283576   84.591722   \n",
       "\n",
       "   vibration  \n",
       "0  45.087686  \n",
       "1  43.767049  \n",
       "2  28.216864  \n",
       "3  38.400372  \n",
       "4  40.298803  "
      ]
     },
     "execution_count": 28,
     "metadata": {},
     "output_type": "execute_result"
    }
   ],
   "source": [
    "print(f\"Shape of the Telemetry Records: {telemetry_df.shape}\")\n",
    "print(\"\\n\")\n",
    "telemetry_df.head()"
   ]
  },
  {
   "cell_type": "code",
   "execution_count": null,
   "id": "212f0f4a-8f99-46ec-8085-b8be74fa0afd",
   "metadata": {},
   "outputs": [],
   "source": [
    "import matplotlib.pyplot as plt\n",
    "\n",
    "# Time Series Analysis for df_telemetry\n",
    "for machine_id in df_telemetry['machineID'].unique():\n",
    "    machine_data = df_telemetry[df_telemetry['machineID'] == machine_id]\n",
    "\n",
    "    # Convert 'datetime' to datetime objects\n",
    "    machine_data['datetime'] = pd.to_datetime(machine_data['datetime'])\n",
    "\n",
    "    # Set 'datetime' as index\n",
    "    machine_data = machine_data.set_index('datetime')\n",
    "\n",
    "    plt.figure(figsize=(12, 8))\n",
    "\n",
    "    # Plot each telemetry feature\n",
    "    for column in ['volt', 'rotate', 'pressure', 'vibration']:\n",
    "        plt.plot(machine_data.index, machine_data[column], label=column)\n",
    "\n",
    "        # Calculate and plot rolling mean (e.g., window of 24 hours)\n",
    "        rolling_mean = machine_data[column].rolling(window=24).mean()\n",
    "        plt.plot(machine_data.index, rolling_mean, label=f\"{column} rolling mean (24h)\", linestyle='--')\n",
    "\n",
    "\n",
    "    plt.title(f\"Telemetry Data for Machine {machine_id}\")\n",
    "    plt.xlabel(\"Datetime\")\n",
    "    plt.ylabel(\"Value\")\n",
    "    plt.legend()\n",
    "    plt.xticks(rotation=45)\n",
    "    plt.tight_layout()\n",
    "    plt.show()"
   ]
  },
  {
   "cell_type": "code",
   "execution_count": null,
   "id": "60301b2e-9819-4046-a766-d3ae16aac358",
   "metadata": {},
   "outputs": [],
   "source": [
    "# Time Series Analysis for df_telemetry using Plotly - All features on the same plot\n",
    "for machine_id in df_telemetry['machineID'].unique()[:3]: # Only plot for the first 3 machines\n",
    "    machine_data = df_telemetry[df_telemetry['machineID'] == machine_id].copy()\n",
    "    machine_data.loc[:, 'datetime'] = pd.to_datetime(machine_data['datetime'])\n",
    "\n",
    "    # Set 'datetime' as index\n",
    "    machine_data = machine_data.set_index('datetime')\n",
    "\n",
    "    # Create a single figure for all features\n",
    "    fig = go.Figure()\n",
    "\n",
    "    features = ['volt', 'rotate', 'pressure', 'vibration']\n",
    "    colors = ['blue', 'red', 'green', 'purple'] # Define colors for each feature\n",
    "\n",
    "    for i, column in enumerate(features):\n",
    "        # Add trace for the original data\n",
    "        fig.add_trace(go.Scattergl(x=machine_data.index, y=machine_data[column], mode='lines', name=column, line=dict(color=colors[i])))\n",
    "\n",
    "        # Calculate and add trace for rolling mean (e.g., window of 24 hours)\n",
    "        rolling_mean = machine_data[column].rolling(window=24).mean()\n",
    "        fig.add_trace(go.Scattergl(x=machine_data.index, y=rolling_mean, mode='lines', name=f\"{column} rolling mean (24h)\", line=dict(dash='dash', color=colors[i])))\n",
    "\n",
    "    # Update layout\n",
    "    fig.update_layout(\n",
    "        title_text=f\"Telemetry Data for Machine {machine_id}\",\n",
    "        height=600,\n",
    "        xaxis_title=\"Datetime\",\n",
    "        yaxis_title=\"Value\",\n",
    "        hovermode='x unified' # Unify hover for better comparison\n",
    "    )\n",
    "\n",
    "    # Update x-axis to show datetime with hour and add range slider\n",
    "    fig.update_xaxes(\n",
    "        tickformat=\"%y:%m:%d | %H:%M\",\n",
    "        rangeslider_visible=True\n",
    "    )\n",
    "\n",
    "    fig.show()"
   ]
  }
 ],
 "metadata": {
  "kernelspec": {
   "display_name": "Python 3 (ipykernel)",
   "language": "python",
   "name": "python3"
  },
  "language_info": {
   "codemirror_mode": {
    "name": "ipython",
    "version": 3
   },
   "file_extension": ".py",
   "mimetype": "text/x-python",
   "name": "python",
   "nbconvert_exporter": "python",
   "pygments_lexer": "ipython3",
   "version": "3.12.7"
  }
 },
 "nbformat": 4,
 "nbformat_minor": 5
}
