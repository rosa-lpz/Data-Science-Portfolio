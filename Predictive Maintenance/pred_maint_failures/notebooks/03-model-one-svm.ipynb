{
 "cells": [
  {
   "cell_type": "code",
   "execution_count": 1,
   "id": "ca9ffb6c",
   "metadata": {},
   "outputs": [
    {
     "name": "stdout",
     "output_type": "stream",
     "text": [
      "Defaulting to user installation because normal site-packages is not writeable\n",
      "Requirement already satisfied: plotly in /programs/anaconda3/lib/python3.12/site-packages (5.24.1)\n",
      "Requirement already satisfied: tenacity>=6.2.0 in /programs/anaconda3/lib/python3.12/site-packages (from plotly) (8.2.3)\n",
      "Requirement already satisfied: packaging in /programs/anaconda3/lib/python3.12/site-packages (from plotly) (24.1)\n"
     ]
    }
   ],
   "source": [
    "import pandas as pd\n",
    "import os\n",
    "import matplotlib.pyplot as plt\n",
    "import seaborn as sns\n",
    "import scipy.stats as stats\n",
    "\n",
    "!pip install plotly\n",
    "import plotly.graph_objects as go\n",
    "from plotly.subplots import make_subplots\n",
    "\n",
    "\n",
    "import numpy as np\n",
    "from scipy.stats import shapiro, normaltest, probplot\n",
    "\n",
    "from statsmodels.tsa.seasonal import seasonal_decompose"
   ]
  },
  {
   "cell_type": "code",
   "execution_count": null,
   "id": "9e752a9a",
   "metadata": {},
   "outputs": [],
   "source": [
    "%run \"variables.py\"\n",
    "%run \"functions.ipynb\""
   ]
  },
  {
   "cell_type": "code",
   "execution_count": 6,
   "id": "3474fb24",
   "metadata": {},
   "outputs": [
    {
     "data": {
      "application/vnd.microsoft.datawrangler.viewer.v0+json": {
       "columns": [
        {
         "name": "index",
         "rawType": "int64",
         "type": "integer"
        },
        {
         "name": "machineid",
         "rawType": "int64",
         "type": "integer"
        },
        {
         "name": "datetimestamp",
         "rawType": "object",
         "type": "string"
        },
        {
         "name": "enginegastemperature1",
         "rawType": "float64",
         "type": "float"
        },
        {
         "name": "enginegastemperature2",
         "rawType": "float64",
         "type": "float"
        },
        {
         "name": "enginegastemperature3",
         "rawType": "float64",
         "type": "float"
        },
        {
         "name": "enginegastemperature4",
         "rawType": "float64",
         "type": "float"
        },
        {
         "name": "enginegastemperature5",
         "rawType": "float64",
         "type": "float"
        },
        {
         "name": "enginegastemperature6",
         "rawType": "float64",
         "type": "float"
        },
        {
         "name": "pressure",
         "rawType": "float64",
         "type": "float"
        }
       ],
       "ref": "a8e7945e-0b69-4552-a2b6-35f837e37fe3",
       "rows": [
        [
         "0",
         "1",
         "2025-01-01 00:00:00",
         "302.4835707650562",
         "385.4086171074853",
         "303.23844269050346",
         "307.61514928204014",
         "298.8292331263833",
         "298.8293152152541",
         "103.15842563101478"
        ],
        [
         "1",
         "1",
         "2025-01-01 00:10:00",
         "303.8371736457645",
         "300.1111091330599",
         "297.8610354319833",
         "297.34091294890885",
         "299.4126224911432",
         "301.11039450782374",
         "98.46404699611384"
        ],
        [
         "2",
         "1",
         "2025-01-01 00:20:00",
         "299.8777241125297",
         "301.77775658561217",
         "302.0850555483159",
         "304.1623092856058",
         "298.5330042682067",
         "299.85080715320123",
         "100.19025156863428"
        ],
        [
         "3",
         "1",
         "2025-01-01 00:30:00",
         "303.32327171374925",
         "303.895963172575",
         "294.4945112182508",
         "305.6511409694852",
         "301.8655945736471",
         "298.06763524717724",
         "97.68245951614983"
        ],
        [
         "4",
         "1",
         "2025-01-01 00:40:00",
         "297.7662926451343",
         null,
         "301.61499898639147",
         null,
         "289.1083287658815",
         "294.78051795882584",
         "100.34538741305104"
        ]
       ],
       "shape": {
        "columns": 9,
        "rows": 5
       }
      },
      "text/html": [
       "<div>\n",
       "<style scoped>\n",
       "    .dataframe tbody tr th:only-of-type {\n",
       "        vertical-align: middle;\n",
       "    }\n",
       "\n",
       "    .dataframe tbody tr th {\n",
       "        vertical-align: top;\n",
       "    }\n",
       "\n",
       "    .dataframe thead th {\n",
       "        text-align: right;\n",
       "    }\n",
       "</style>\n",
       "<table border=\"1\" class=\"dataframe\">\n",
       "  <thead>\n",
       "    <tr style=\"text-align: right;\">\n",
       "      <th></th>\n",
       "      <th>machineid</th>\n",
       "      <th>datetimestamp</th>\n",
       "      <th>enginegastemperature1</th>\n",
       "      <th>enginegastemperature2</th>\n",
       "      <th>enginegastemperature3</th>\n",
       "      <th>enginegastemperature4</th>\n",
       "      <th>enginegastemperature5</th>\n",
       "      <th>enginegastemperature6</th>\n",
       "      <th>pressure</th>\n",
       "    </tr>\n",
       "  </thead>\n",
       "  <tbody>\n",
       "    <tr>\n",
       "      <th>0</th>\n",
       "      <td>1</td>\n",
       "      <td>2025-01-01 00:00:00</td>\n",
       "      <td>302.483571</td>\n",
       "      <td>385.408617</td>\n",
       "      <td>303.238443</td>\n",
       "      <td>307.615149</td>\n",
       "      <td>298.829233</td>\n",
       "      <td>298.829315</td>\n",
       "      <td>103.158426</td>\n",
       "    </tr>\n",
       "    <tr>\n",
       "      <th>1</th>\n",
       "      <td>1</td>\n",
       "      <td>2025-01-01 00:10:00</td>\n",
       "      <td>303.837174</td>\n",
       "      <td>300.111109</td>\n",
       "      <td>297.861035</td>\n",
       "      <td>297.340913</td>\n",
       "      <td>299.412622</td>\n",
       "      <td>301.110395</td>\n",
       "      <td>98.464047</td>\n",
       "    </tr>\n",
       "    <tr>\n",
       "      <th>2</th>\n",
       "      <td>1</td>\n",
       "      <td>2025-01-01 00:20:00</td>\n",
       "      <td>299.877724</td>\n",
       "      <td>301.777757</td>\n",
       "      <td>302.085056</td>\n",
       "      <td>304.162309</td>\n",
       "      <td>298.533004</td>\n",
       "      <td>299.850807</td>\n",
       "      <td>100.190252</td>\n",
       "    </tr>\n",
       "    <tr>\n",
       "      <th>3</th>\n",
       "      <td>1</td>\n",
       "      <td>2025-01-01 00:30:00</td>\n",
       "      <td>303.323272</td>\n",
       "      <td>303.895963</td>\n",
       "      <td>294.494511</td>\n",
       "      <td>305.651141</td>\n",
       "      <td>301.865595</td>\n",
       "      <td>298.067635</td>\n",
       "      <td>97.682460</td>\n",
       "    </tr>\n",
       "    <tr>\n",
       "      <th>4</th>\n",
       "      <td>1</td>\n",
       "      <td>2025-01-01 00:40:00</td>\n",
       "      <td>297.766293</td>\n",
       "      <td>NaN</td>\n",
       "      <td>301.614999</td>\n",
       "      <td>NaN</td>\n",
       "      <td>289.108329</td>\n",
       "      <td>294.780518</td>\n",
       "      <td>100.345387</td>\n",
       "    </tr>\n",
       "  </tbody>\n",
       "</table>\n",
       "</div>"
      ],
      "text/plain": [
       "   machineid        datetimestamp  enginegastemperature1  \\\n",
       "0          1  2025-01-01 00:00:00             302.483571   \n",
       "1          1  2025-01-01 00:10:00             303.837174   \n",
       "2          1  2025-01-01 00:20:00             299.877724   \n",
       "3          1  2025-01-01 00:30:00             303.323272   \n",
       "4          1  2025-01-01 00:40:00             297.766293   \n",
       "\n",
       "   enginegastemperature2  enginegastemperature3  enginegastemperature4  \\\n",
       "0             385.408617             303.238443             307.615149   \n",
       "1             300.111109             297.861035             297.340913   \n",
       "2             301.777757             302.085056             304.162309   \n",
       "3             303.895963             294.494511             305.651141   \n",
       "4                    NaN             301.614999                    NaN   \n",
       "\n",
       "   enginegastemperature5  enginegastemperature6    pressure  \n",
       "0             298.829233             298.829315  103.158426  \n",
       "1             299.412622             301.110395   98.464047  \n",
       "2             298.533004             299.850807  100.190252  \n",
       "3             301.865595             298.067635   97.682460  \n",
       "4             289.108329             294.780518  100.345387  "
      ]
     },
     "metadata": {},
     "output_type": "display_data"
    }
   ],
   "source": [
    "# df = pd.read_csv(f'{DATA_DIR}/pred_maint_timeseries_with_failures.csv')\n",
    "df = pd.read_csv(f'{DATA_DIR}/pred_maint_year_outliers_nulls.csv')\n",
    "display(df.head())"
   ]
  },
  {
   "cell_type": "code",
   "execution_count": 7,
   "id": "3b9f41b3",
   "metadata": {},
   "outputs": [
    {
     "data": {
      "application/vnd.microsoft.datawrangler.viewer.v0+json": {
       "columns": [
        {
         "name": "datetimestamp",
         "rawType": "object",
         "type": "string"
        },
        {
         "name": "machineid",
         "rawType": "int64",
         "type": "integer"
        },
        {
         "name": "enginegastemperature1",
         "rawType": "float64",
         "type": "float"
        },
        {
         "name": "enginegastemperature2",
         "rawType": "float64",
         "type": "float"
        },
        {
         "name": "enginegastemperature3",
         "rawType": "float64",
         "type": "float"
        },
        {
         "name": "enginegastemperature4",
         "rawType": "float64",
         "type": "float"
        },
        {
         "name": "enginegastemperature5",
         "rawType": "float64",
         "type": "float"
        },
        {
         "name": "enginegastemperature6",
         "rawType": "float64",
         "type": "float"
        },
        {
         "name": "pressure",
         "rawType": "float64",
         "type": "float"
        }
       ],
       "ref": "fcec9f69-37de-4e37-a6bf-08689ec159bd",
       "rows": [
        [
         "2025-01-01 00:00:00",
         "1",
         "302.4835707650562",
         "385.4086171074853",
         "303.23844269050346",
         "307.61514928204014",
         "298.8292331263833",
         "298.8293152152541",
         "103.15842563101478"
        ],
        [
         "2025-01-01 00:10:00",
         "1",
         "303.8371736457645",
         "300.1111091330599",
         "297.8610354319833",
         "297.34091294890885",
         "299.4126224911432",
         "301.11039450782374",
         "98.46404699611384"
        ],
        [
         "2025-01-01 00:20:00",
         "1",
         "299.8777241125297",
         "301.77775658561217",
         "302.0850555483159",
         "304.1623092856058",
         "298.5330042682067",
         "299.85080715320123",
         "100.19025156863428"
        ],
        [
         "2025-01-01 00:30:00",
         "1",
         "303.32327171374925",
         "303.895963172575",
         "294.4945112182508",
         "305.6511409694852",
         "301.8655945736471",
         "298.06763524717724",
         "97.68245951614983"
        ],
        [
         "2025-01-01 00:40:00",
         "1",
         "297.7662926451343",
         null,
         "301.61499898639147",
         null,
         "289.1083287658815",
         "294.78051795882584",
         "100.34538741305104"
        ]
       ],
       "shape": {
        "columns": 8,
        "rows": 5
       }
      },
      "text/html": [
       "<div>\n",
       "<style scoped>\n",
       "    .dataframe tbody tr th:only-of-type {\n",
       "        vertical-align: middle;\n",
       "    }\n",
       "\n",
       "    .dataframe tbody tr th {\n",
       "        vertical-align: top;\n",
       "    }\n",
       "\n",
       "    .dataframe thead th {\n",
       "        text-align: right;\n",
       "    }\n",
       "</style>\n",
       "<table border=\"1\" class=\"dataframe\">\n",
       "  <thead>\n",
       "    <tr style=\"text-align: right;\">\n",
       "      <th></th>\n",
       "      <th>machineid</th>\n",
       "      <th>enginegastemperature1</th>\n",
       "      <th>enginegastemperature2</th>\n",
       "      <th>enginegastemperature3</th>\n",
       "      <th>enginegastemperature4</th>\n",
       "      <th>enginegastemperature5</th>\n",
       "      <th>enginegastemperature6</th>\n",
       "      <th>pressure</th>\n",
       "    </tr>\n",
       "    <tr>\n",
       "      <th>datetimestamp</th>\n",
       "      <th></th>\n",
       "      <th></th>\n",
       "      <th></th>\n",
       "      <th></th>\n",
       "      <th></th>\n",
       "      <th></th>\n",
       "      <th></th>\n",
       "      <th></th>\n",
       "    </tr>\n",
       "  </thead>\n",
       "  <tbody>\n",
       "    <tr>\n",
       "      <th>2025-01-01 00:00:00</th>\n",
       "      <td>1</td>\n",
       "      <td>302.483571</td>\n",
       "      <td>385.408617</td>\n",
       "      <td>303.238443</td>\n",
       "      <td>307.615149</td>\n",
       "      <td>298.829233</td>\n",
       "      <td>298.829315</td>\n",
       "      <td>103.158426</td>\n",
       "    </tr>\n",
       "    <tr>\n",
       "      <th>2025-01-01 00:10:00</th>\n",
       "      <td>1</td>\n",
       "      <td>303.837174</td>\n",
       "      <td>300.111109</td>\n",
       "      <td>297.861035</td>\n",
       "      <td>297.340913</td>\n",
       "      <td>299.412622</td>\n",
       "      <td>301.110395</td>\n",
       "      <td>98.464047</td>\n",
       "    </tr>\n",
       "    <tr>\n",
       "      <th>2025-01-01 00:20:00</th>\n",
       "      <td>1</td>\n",
       "      <td>299.877724</td>\n",
       "      <td>301.777757</td>\n",
       "      <td>302.085056</td>\n",
       "      <td>304.162309</td>\n",
       "      <td>298.533004</td>\n",
       "      <td>299.850807</td>\n",
       "      <td>100.190252</td>\n",
       "    </tr>\n",
       "    <tr>\n",
       "      <th>2025-01-01 00:30:00</th>\n",
       "      <td>1</td>\n",
       "      <td>303.323272</td>\n",
       "      <td>303.895963</td>\n",
       "      <td>294.494511</td>\n",
       "      <td>305.651141</td>\n",
       "      <td>301.865595</td>\n",
       "      <td>298.067635</td>\n",
       "      <td>97.682460</td>\n",
       "    </tr>\n",
       "    <tr>\n",
       "      <th>2025-01-01 00:40:00</th>\n",
       "      <td>1</td>\n",
       "      <td>297.766293</td>\n",
       "      <td>NaN</td>\n",
       "      <td>301.614999</td>\n",
       "      <td>NaN</td>\n",
       "      <td>289.108329</td>\n",
       "      <td>294.780518</td>\n",
       "      <td>100.345387</td>\n",
       "    </tr>\n",
       "  </tbody>\n",
       "</table>\n",
       "</div>"
      ],
      "text/plain": [
       "                     machineid  enginegastemperature1  enginegastemperature2  \\\n",
       "datetimestamp                                                                  \n",
       "2025-01-01 00:00:00          1             302.483571             385.408617   \n",
       "2025-01-01 00:10:00          1             303.837174             300.111109   \n",
       "2025-01-01 00:20:00          1             299.877724             301.777757   \n",
       "2025-01-01 00:30:00          1             303.323272             303.895963   \n",
       "2025-01-01 00:40:00          1             297.766293                    NaN   \n",
       "\n",
       "                     enginegastemperature3  enginegastemperature4  \\\n",
       "datetimestamp                                                       \n",
       "2025-01-01 00:00:00             303.238443             307.615149   \n",
       "2025-01-01 00:10:00             297.861035             297.340913   \n",
       "2025-01-01 00:20:00             302.085056             304.162309   \n",
       "2025-01-01 00:30:00             294.494511             305.651141   \n",
       "2025-01-01 00:40:00             301.614999                    NaN   \n",
       "\n",
       "                     enginegastemperature5  enginegastemperature6    pressure  \n",
       "datetimestamp                                                                  \n",
       "2025-01-01 00:00:00             298.829233             298.829315  103.158426  \n",
       "2025-01-01 00:10:00             299.412622             301.110395   98.464047  \n",
       "2025-01-01 00:20:00             298.533004             299.850807  100.190252  \n",
       "2025-01-01 00:30:00             301.865595             298.067635   97.682460  \n",
       "2025-01-01 00:40:00             289.108329             294.780518  100.345387  "
      ]
     },
     "metadata": {},
     "output_type": "display_data"
    }
   ],
   "source": [
    "\n",
    "df.drop(columns=['machineid'])\n",
    "df = df.set_index('datetimestamp')\n",
    "display(df.head())"
   ]
  },
  {
   "cell_type": "markdown",
   "id": "4b93b9fd",
   "metadata": {},
   "source": [
    "# Features\n",
    "\n",
    "Create features to perform One-class SVM model in time series dataframe df for anomaly detection"
   ]
  },
  {
   "cell_type": "code",
   "execution_count": 13,
   "id": "214a4c3d",
   "metadata": {
    "vscode": {
     "languageId": "ruby"
    }
   },
   "outputs": [
    {
     "data": {
      "text/plain": [
       "'from sklearn.preprocessing import StandardScaler\\nfrom sklearn.ensemble import IsolationForest\\n\\n# Create rolling window features for anomaly detection\\nwindow_sizes = [3, 5, 10, 20]\\n\\n# Initialize feature dataframe\\ndf_features = df.copy()\\n\\n# Create mean_temperature column from temperature sensors\\ntemp_columns = [\\'enginegastemperature1\\', \\'enginegastemperature2\\', \\'enginegastemperature3\\', \\n                \\'enginegastemperature4\\', \\'enginegastemperature5\\', \\'enginegastemperature6\\']\\ndf_features[\\'mean_temperature\\'] = df_features[temp_columns].mean(axis=1)\\n\\n# Remove any missing values first\\ndf_features = df_features.dropna()\\n\\n#\\n# 5. Additional statistical features\\ndf_features[\\'abs_diff_from_mean\\'] = abs(df[\\'mean_temperature\\'] - df[\\'mean_temperature\\'].mean())\\ndf_features[\\'squared_diff_from_mean\\'] = (df[\\'mean_temperature\\'] - df[\\'mean_temperature\\'].mean()) ** 2\\n\\n# Create Z-score based anomaly flags for comparison\\ndf_with_zscore_features = df_features.copy()\\ndf_with_zscore_features[\\'max_abs_zscore\\'] = df_features[[\\'zscore_10\\', \\'zscore_20\\', \\'zscore_50\\']].abs().max(axis=1)\\ndf_with_zscore_features[\\'anomaly_flag_2sigma\\'] = (df_with_zscore_features[\\'max_abs_zscore\\'] > 2).astype(int)\\ndf_with_zscore_features[\\'anomaly_flag_3sigma\\'] = (df_with_zscore_features[\\'max_abs_zscore\\'] > 3).astype(int)\\n\\n# Select features for Isolation Forest model\\nisolation_features = [col for col in df_features.columns if col not in [\\'mean_temperature\\']]\\nall_isolation_features = [col for col in isolation_features if not col.startswith(\\'anomaly_flag\\')]\\n\\n# Remove rows with NaN values (due to rolling windows and lags)\\ndf_isolation_features = df_features[all_isolation_features].dropna()\\n\\nprint(f\"Created {len(all_isolation_features)} features for anomaly detection:\")\\nprint(f\"Features: {all_isolation_features}\")\\nprint(f\"Feature matrix shape: {df_isolation_features.shape}\")\\nprint(f\"Data range: {df_isolation_features.index.min()} to {df_isolation_features.index.max()}\")\\n\\n# Display feature statistics\\ndisplay(df_isolation_features.describe())\\n'"
      ]
     },
     "execution_count": 13,
     "metadata": {},
     "output_type": "execute_result"
    }
   ],
   "source": [
    "\"\"\"from sklearn.preprocessing import StandardScaler\n",
    "from sklearn.ensemble import IsolationForest\n",
    "\n",
    "# Create rolling window features for anomaly detection\n",
    "window_sizes = [3, 5, 10, 20]\n",
    "\n",
    "# Initialize feature dataframe\n",
    "df_features = df.copy()\n",
    "\n",
    "# Create mean_temperature column from temperature sensors\n",
    "temp_columns = ['enginegastemperature1', 'enginegastemperature2', 'enginegastemperature3', \n",
    "                'enginegastemperature4', 'enginegastemperature5', 'enginegastemperature6']\n",
    "df_features['mean_temperature'] = df_features[temp_columns].mean(axis=1)\n",
    "\n",
    "# Remove any missing values first\n",
    "df_features = df_features.dropna()\n",
    "\n",
    "#\n",
    "# 5. Additional statistical features\n",
    "df_features['abs_diff_from_mean'] = abs(df['mean_temperature'] - df['mean_temperature'].mean())\n",
    "df_features['squared_diff_from_mean'] = (df['mean_temperature'] - df['mean_temperature'].mean()) ** 2\n",
    "\n",
    "# Create Z-score based anomaly flags for comparison\n",
    "df_with_zscore_features = df_features.copy()\n",
    "df_with_zscore_features['max_abs_zscore'] = df_features[['zscore_10', 'zscore_20', 'zscore_50']].abs().max(axis=1)\n",
    "df_with_zscore_features['anomaly_flag_2sigma'] = (df_with_zscore_features['max_abs_zscore'] > 2).astype(int)\n",
    "df_with_zscore_features['anomaly_flag_3sigma'] = (df_with_zscore_features['max_abs_zscore'] > 3).astype(int)\n",
    "\n",
    "# Select features for Isolation Forest model\n",
    "isolation_features = [col for col in df_features.columns if col not in ['mean_temperature']]\n",
    "all_isolation_features = [col for col in isolation_features if not col.startswith('anomaly_flag')]\n",
    "\n",
    "# Remove rows with NaN values (due to rolling windows and lags)\n",
    "df_isolation_features = df_features[all_isolation_features].dropna()\n",
    "\n",
    "print(f\"Created {len(all_isolation_features)} features for anomaly detection:\")\n",
    "print(f\"Features: {all_isolation_features}\")\n",
    "print(f\"Feature matrix shape: {df_isolation_features.shape}\")\n",
    "print(f\"Data range: {df_isolation_features.index.min()} to {df_isolation_features.index.max()}\")\n",
    "\n",
    "# Display feature statistics\n",
    "display(df_isolation_features.describe())\n",
    "\"\"\""
   ]
  },
  {
   "cell_type": "code",
   "execution_count": null,
   "id": "88ec88f1",
   "metadata": {
    "vscode": {
     "languageId": "ruby"
    }
   },
   "outputs": [],
   "source": [
    "## For SVM"
   ]
  },
  {
   "cell_type": "code",
   "execution_count": 15,
   "id": "2c5d7ce4",
   "metadata": {},
   "outputs": [
    {
     "name": "stdout",
     "output_type": "stream",
     "text": [
      "Created 26 features for anomaly detection:\n",
      "Features: ['rolling_mean_3', 'rolling_std_3', 'rolling_min_3', 'rolling_max_3', 'rolling_mean_5', 'rolling_std_5', 'rolling_min_5', 'rolling_max_5', 'rolling_mean_10', 'rolling_std_10', 'rolling_min_10', 'rolling_max_10', 'rolling_mean_20', 'rolling_std_20', 'rolling_min_20', 'rolling_max_20', 'lag_1', 'lag_2', 'lag_3', 'lag_5', 'lag_10', 'zscore_10', 'zscore_20', 'zscore_50', 'abs_diff_from_mean', 'squared_diff_from_mean']\n",
      "Feature matrix shape: (170669, 26)\n",
      "One-Class SVM Results:\n",
      "Total data points: 170669\n",
      "Anomalies detected: 8534 (5.00%)\n",
      "Normal points: 162135 (95.00%)\n"
     ]
    },
    {
     "data": {
      "application/vnd.microsoft.datawrangler.viewer.v0+json": {
       "columns": [
        {
         "name": "datetimestamp",
         "rawType": "object",
         "type": "string"
        },
        {
         "name": "svm_anomaly",
         "rawType": "int64",
         "type": "integer"
        },
        {
         "name": "svm_prediction",
         "rawType": "int64",
         "type": "integer"
        }
       ],
       "ref": "a7d6770a-f4c0-4591-b103-d0c71c61991f",
       "rows": [
        [
         "2025-01-01 12:30:00",
         "0",
         "1"
        ],
        [
         "2025-01-01 12:40:00",
         "0",
         "1"
        ],
        [
         "2025-01-01 13:00:00",
         "0",
         "1"
        ],
        [
         "2025-01-01 13:30:00",
         "0",
         "1"
        ],
        [
         "2025-01-01 13:40:00",
         "0",
         "1"
        ],
        [
         "2025-01-01 13:50:00",
         "0",
         "1"
        ],
        [
         "2025-01-01 14:00:00",
         "0",
         "1"
        ],
        [
         "2025-01-01 14:10:00",
         "0",
         "1"
        ],
        [
         "2025-01-01 14:20:00",
         "0",
         "1"
        ],
        [
         "2025-01-01 14:40:00",
         "0",
         "1"
        ]
       ],
       "shape": {
        "columns": 2,
        "rows": 10
       }
      },
      "text/html": [
       "<div>\n",
       "<style scoped>\n",
       "    .dataframe tbody tr th:only-of-type {\n",
       "        vertical-align: middle;\n",
       "    }\n",
       "\n",
       "    .dataframe tbody tr th {\n",
       "        vertical-align: top;\n",
       "    }\n",
       "\n",
       "    .dataframe thead th {\n",
       "        text-align: right;\n",
       "    }\n",
       "</style>\n",
       "<table border=\"1\" class=\"dataframe\">\n",
       "  <thead>\n",
       "    <tr style=\"text-align: right;\">\n",
       "      <th></th>\n",
       "      <th>svm_anomaly</th>\n",
       "      <th>svm_prediction</th>\n",
       "    </tr>\n",
       "    <tr>\n",
       "      <th>datetimestamp</th>\n",
       "      <th></th>\n",
       "      <th></th>\n",
       "    </tr>\n",
       "  </thead>\n",
       "  <tbody>\n",
       "    <tr>\n",
       "      <th>2025-01-01 12:30:00</th>\n",
       "      <td>0</td>\n",
       "      <td>1</td>\n",
       "    </tr>\n",
       "    <tr>\n",
       "      <th>2025-01-01 12:40:00</th>\n",
       "      <td>0</td>\n",
       "      <td>1</td>\n",
       "    </tr>\n",
       "    <tr>\n",
       "      <th>2025-01-01 13:00:00</th>\n",
       "      <td>0</td>\n",
       "      <td>1</td>\n",
       "    </tr>\n",
       "    <tr>\n",
       "      <th>2025-01-01 13:30:00</th>\n",
       "      <td>0</td>\n",
       "      <td>1</td>\n",
       "    </tr>\n",
       "    <tr>\n",
       "      <th>2025-01-01 13:40:00</th>\n",
       "      <td>0</td>\n",
       "      <td>1</td>\n",
       "    </tr>\n",
       "    <tr>\n",
       "      <th>2025-01-01 13:50:00</th>\n",
       "      <td>0</td>\n",
       "      <td>1</td>\n",
       "    </tr>\n",
       "    <tr>\n",
       "      <th>2025-01-01 14:00:00</th>\n",
       "      <td>0</td>\n",
       "      <td>1</td>\n",
       "    </tr>\n",
       "    <tr>\n",
       "      <th>2025-01-01 14:10:00</th>\n",
       "      <td>0</td>\n",
       "      <td>1</td>\n",
       "    </tr>\n",
       "    <tr>\n",
       "      <th>2025-01-01 14:20:00</th>\n",
       "      <td>0</td>\n",
       "      <td>1</td>\n",
       "    </tr>\n",
       "    <tr>\n",
       "      <th>2025-01-01 14:40:00</th>\n",
       "      <td>0</td>\n",
       "      <td>1</td>\n",
       "    </tr>\n",
       "  </tbody>\n",
       "</table>\n",
       "</div>"
      ],
      "text/plain": [
       "                     svm_anomaly  svm_prediction\n",
       "datetimestamp                                   \n",
       "2025-01-01 12:30:00            0               1\n",
       "2025-01-01 12:40:00            0               1\n",
       "2025-01-01 13:00:00            0               1\n",
       "2025-01-01 13:30:00            0               1\n",
       "2025-01-01 13:40:00            0               1\n",
       "2025-01-01 13:50:00            0               1\n",
       "2025-01-01 14:00:00            0               1\n",
       "2025-01-01 14:10:00            0               1\n",
       "2025-01-01 14:20:00            0               1\n",
       "2025-01-01 14:40:00            0               1"
      ]
     },
     "metadata": {},
     "output_type": "display_data"
    },
    {
     "ename": "AttributeError",
     "evalue": "'Index' object has no attribute 'month'",
     "output_type": "error",
     "traceback": [
      "\u001b[0;31m---------------------------------------------------------------------------\u001b[0m",
      "\u001b[0;31mAttributeError\u001b[0m                            Traceback (most recent call last)",
      "Cell \u001b[0;32mIn[15], line 72\u001b[0m\n\u001b[1;32m     69\u001b[0m display(df_svm_results[[\u001b[38;5;124m'\u001b[39m\u001b[38;5;124msvm_anomaly\u001b[39m\u001b[38;5;124m'\u001b[39m, \u001b[38;5;124m'\u001b[39m\u001b[38;5;124msvm_prediction\u001b[39m\u001b[38;5;124m'\u001b[39m]]\u001b[38;5;241m.\u001b[39mhead(\u001b[38;5;241m10\u001b[39m))\n\u001b[1;32m     71\u001b[0m \u001b[38;5;66;03m# Show some statistics about anomalies over time\u001b[39;00m\n\u001b[0;32m---> 72\u001b[0m anomaly_by_month \u001b[38;5;241m=\u001b[39m df_svm_results\u001b[38;5;241m.\u001b[39mgroupby(df_svm_results\u001b[38;5;241m.\u001b[39mindex\u001b[38;5;241m.\u001b[39mmonth)[\u001b[38;5;124m'\u001b[39m\u001b[38;5;124msvm_anomaly\u001b[39m\u001b[38;5;124m'\u001b[39m]\u001b[38;5;241m.\u001b[39magg([\u001b[38;5;124m'\u001b[39m\u001b[38;5;124mcount\u001b[39m\u001b[38;5;124m'\u001b[39m, \u001b[38;5;124m'\u001b[39m\u001b[38;5;124msum\u001b[39m\u001b[38;5;124m'\u001b[39m, \u001b[38;5;124m'\u001b[39m\u001b[38;5;124mmean\u001b[39m\u001b[38;5;124m'\u001b[39m])\n\u001b[1;32m     73\u001b[0m anomaly_by_month\u001b[38;5;241m.\u001b[39mcolumns \u001b[38;5;241m=\u001b[39m [\u001b[38;5;124m'\u001b[39m\u001b[38;5;124mtotal_points\u001b[39m\u001b[38;5;124m'\u001b[39m, \u001b[38;5;124m'\u001b[39m\u001b[38;5;124manomalies\u001b[39m\u001b[38;5;124m'\u001b[39m, \u001b[38;5;124m'\u001b[39m\u001b[38;5;124manomaly_rate\u001b[39m\u001b[38;5;124m'\u001b[39m]\n\u001b[1;32m     74\u001b[0m \u001b[38;5;28mprint\u001b[39m(\u001b[38;5;124m\"\u001b[39m\u001b[38;5;130;01m\\n\u001b[39;00m\u001b[38;5;124mAnomaly distribution by month:\u001b[39m\u001b[38;5;124m\"\u001b[39m)\n",
      "\u001b[0;31mAttributeError\u001b[0m: 'Index' object has no attribute 'month'"
     ]
    }
   ],
   "source": [
    "from sklearn.svm import OneClassSVM\n",
    "from sklearn.preprocessing import StandardScaler\n",
    "\n",
    "# Prepare features for One-Class SVM\n",
    "# Use the same features we created for Isolation Forest\n",
    "svm_features = df_isolation_features.copy()\n",
    "\n",
    "# Scale the features for SVM (important for SVM performance)\n",
    "scaler = StandardScaler()\n",
    "svm_features_scaled = scaler.fit_transform(svm_features)\n",
    "\n",
    "# Train One-Class SVM model\n",
    "# nu parameter controls the fraction of outliers (typically between 0.01 and 0.1)\n",
    "# gamma controls the influence of each training example\n",
    "svm_model = OneClassSVM(nu=0.05, gamma='scale', kernel='rbf')\n",
    "svm_predictions = svm_model.fit_predict(svm_features_scaled)\n",
    "\n",
    "# Create anomaly flags (-1 means anomaly, 1 means normal)\n",
    "svm_anomalies = (svm_predictions == -1).astype(int)\n",
    "\n",
    "# Add SVM results to dataframe\n",
    "df_svm_results = df_isolation_features.copy()\n",
    "df_svm_results['svm_anomaly'] = svm_anomalies\n",
    "df_svm_results['svm_prediction'] = svm_predictions\n",
    "\n",
    "print(f\"One-Class SVM Results:\")\n",
    "print(f\"Total data points: {len(svm_predictions)}\")\n",
    "print(f\"Anomalies detected: {sum(svm_anomalies)} ({sum(svm_anomalies)/len(svm_predictions)*100:.2f}%)\")\n",
    "print(f\"Normal points: {sum(svm_predictions == 1)} ({sum(svm_predictions == 1)/len(svm_predictions)*100:.2f}%)\")\n",
    "\n",
    "# Display first few results\n",
    "display(df_svm_results[['svm_anomaly', 'svm_prediction']].head(10))\n",
    "\n",
    "# Show some statistics about anomalies over time\n",
    "anomaly_by_month = df_svm_results.groupby(df_svm_results.index.month)['svm_anomaly'].agg(['count', 'sum', 'mean'])\n",
    "anomaly_by_month.columns = ['total_points', 'anomalies', 'anomaly_rate']\n",
    "print(\"\\nAnomaly distribution by month:\")\n",
    "display(anomaly_by_month)"
   ]
  },
  {
   "cell_type": "markdown",
   "id": "54ee87e0",
   "metadata": {},
   "source": [
    "# Model"
   ]
  },
  {
   "cell_type": "markdown",
   "id": "4465838d",
   "metadata": {},
   "source": [
    "using the features created above, we can now train an one-class SVM model to detect anomalies in the time series data. Show the confusion matrix of the anomalies detected by the Z score model and the defined failure flags for temperature sensors. Add evaluation of the model."
   ]
  },
  {
   "cell_type": "code",
   "execution_count": null,
   "id": "60ddf4dc",
   "metadata": {
    "vscode": {
     "languageId": "ruby"
    }
   },
   "outputs": [],
   "source": []
  }
 ],
 "metadata": {
  "kernelspec": {
   "display_name": "Python 3 (ipykernel)",
   "language": "python",
   "name": "python3"
  },
  "language_info": {
   "codemirror_mode": {
    "name": "ipython",
    "version": 3
   },
   "file_extension": ".py",
   "mimetype": "text/x-python",
   "name": "python",
   "nbconvert_exporter": "python",
   "pygments_lexer": "ipython3",
   "version": "3.12.7"
  }
 },
 "nbformat": 4,
 "nbformat_minor": 5
}
