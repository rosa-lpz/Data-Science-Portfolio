{
 "cells": [
  {
   "cell_type": "code",
   "execution_count": null,
   "id": "3a828c83-cb8f-4fed-8cac-604fd399cca4",
   "metadata": {},
   "outputs": [],
   "source": [
    "import pandas as pd\n",
    "import os\n",
    "import matplotlib.pyplot as plt\n",
    "import seaborn as sns\n",
    "import scipy.stats as stats\n",
    "\n",
    "!pip install plotly\n",
    "import plotly.graph_objects as go\n",
    "from plotly.subplots import make_subplots\n",
    "\n",
    "\n",
    "import numpy as np\n",
    "from scipy.stats import shapiro, normaltest, probplot\n",
    "\n",
    "from statsmodels.tsa.seasonal import seasonal_decompose"
   ]
  },
  {
   "cell_type": "code",
   "execution_count": null,
   "id": "3a20a754-8974-41f6-8f2c-82e6ecad02e8",
   "metadata": {},
   "outputs": [],
   "source": [
    "%run \"variables.py\""
   ]
  },
  {
   "cell_type": "code",
   "execution_count": null,
   "id": "94ff9589-ecf4-4a86-9fb3-bf4e1b17250d",
   "metadata": {},
   "outputs": [],
   "source": [
    "%run \"functions.ipynb\" "
   ]
  },
  {
   "cell_type": "code",
   "execution_count": null,
   "id": "bc32928d-6c13-48e2-a4a9-9e15361e475e",
   "metadata": {},
   "outputs": [],
   "source": [
    "%run \"02-feature-engineering.ipynb\""
   ]
  },
  {
   "cell_type": "markdown",
   "id": "84405a4c-afef-4b06-94bb-a5edb5952cfc",
   "metadata": {},
   "source": [
    "# Data loading\n",
    "\n",
    "Load the two CSV files, pred_maint_timeseries_with_failures.csv into pandas DataFrame."
   ]
  },
  {
   "cell_type": "code",
   "execution_count": null,
   "id": "969997af-ff04-4fdc-816e-ef0a76f7178c",
   "metadata": {},
   "outputs": [],
   "source": [
    "# df = pd.read_csv(f'{DATA_DIR}/pred_maint_timeseries_with_failures.csv')\n",
    "df = pd.read_csv(f'{DATA_DIR}/pred_maint_year_outliers_nulls.csv')\n",
    "display(df.head())"
   ]
  },
  {
   "cell_type": "markdown",
   "id": "d20c0e9c-9e9e-40a6-afed-a15370988cd5",
   "metadata": {},
   "source": [
    "# Model selection\n",
    "\n",
    "Discuss potential modeling approaches suitable for time series anomaly detection or predictive maintenance (e.g., ARIMA, Prophet, LSTM, Isolation Forest, One-Class SVM). Explain the pros and cons of each approach in the context of this problem.\n"
   ]
  },
  {
   "cell_type": "markdown",
   "id": "919d8cb6-808c-4649-8587-6a51090697a4",
   "metadata": {},
   "source": [
    "# Prepare data for modeling\n",
    "\n",
    "Prepare data for modeling by handling missing values resulting from rolling calculations and splitting the data into training and testing sets.\n"
   ]
  },
  {
   "cell_type": "code",
   "execution_count": null,
   "id": "da79c151-b239-435d-98c5-1a2c42c7d68c",
   "metadata": {},
   "outputs": [],
   "source": [
    "df.dropna(inplace=True)\n",
    "display(df.head())"
   ]
  },
  {
   "cell_type": "markdown",
   "id": "d7427426-8ea6-49db-8dbe-b3fedf3350e6",
   "metadata": {},
   "source": [
    "**Reasoning**:\n",
    "Split the data into training and testing sets (80/20 split) and separate features from target variables for both sets.\n"
   ]
  },
  {
   "cell_type": "code",
   "execution_count": null,
   "id": "c748336a-ed61-42a5-86d2-7403cdf82f3d",
   "metadata": {},
   "outputs": [],
   "source": [
    "temperature_failure_flags = [f'enginegastemperature{i}_failure_flag' for i in range(1, 7)]\n",
    "features = [col for col in df.columns if col not in temperature_failure_flags and col not in ['datetimestamp']]\n",
    "\n",
    "X = df[features]\n",
    "y = df[temperature_failure_flags]\n",
    "\n",
    "train_size = int(len(df) * 0.8)\n",
    "X_train, X_test = X[0:train_size], X[train_size:len(df)]\n",
    "y_train, y_test = y[0:train_size], y[train_size:len(df)]\n",
    "\n",
    "print(\"Training set shapes:\")\n",
    "print(f\"Features (X_train): {X_train.shape}\")\n",
    "print(f\"Targets (y_train): {y_train.shape}\")\n",
    "print(\"\\nTesting set shapes:\")\n",
    "print(f\"Features (X_test): {X_test.shape}\")\n",
    "print(f\"Targets (y_test): {y_test.shape}\")"
   ]
  },
  {
   "cell_type": "code",
   "execution_count": null,
   "id": "017d48f2-3343-40fb-98bc-0d9d9777a8b0",
   "metadata": {},
   "outputs": [],
   "source": []
  },
  {
   "cell_type": "code",
   "execution_count": null,
   "id": "4c09cd6f-2e3d-437d-924c-6bed2afb0a6b",
   "metadata": {
    "jupyter": {
     "source_hidden": true
    }
   },
   "outputs": [],
   "source": [
    "# prompt: concept simulation usig isolation forest\n",
    "\n",
    "import pandas as pd\n",
    "import matplotlib.pyplot as plt\n",
    "from sklearn.ensemble import IsolationForest\n",
    "\n",
    "# Select features relevant for anomaly detection.\n",
    "# These could be the original sensor readings or engineered features like deviations and ratios.\n",
    "# Using a subset of features often works well for Isolation Forest.\n",
    "# Let's use the original temperature and pressure readings for simplicity in this concept simulation.\n",
    "features_for_anomaly = [f'enginegastemperature{i}' for i in range(1, 7)] + ['pressure']\n",
    "\n",
    "# Drop rows with NaN values introduced by previous feature engineering steps if any\n",
    "# Although the data is already clean after dropna, it's good practice if using a subset of features\n",
    "# that might not have NaNs.\n",
    "X_anomaly = df[features_for_anomaly].copy()\n",
    "\n",
    "# Initialize Isolation Forest model\n",
    "# n_estimators: The number of base estimators in the ensemble.\n",
    "# contamination: The proportion of outliers in the data set.\n",
    "#   'auto': decides based on the training data's distribution.\n",
    "#   float: The proportion of outliers in the data set.\n",
    "#   We can set a contamination value based on our understanding or let it be 'auto'.\n",
    "#   Given the low number of defined failures, a small contamination value might be reasonable,\n",
    "#   or 'auto' can be tried first. Let's use 'auto' initially.\n",
    "# random_state: Ensures reproducibility.\n",
    "isolation_forest = IsolationForest(n_estimators=100, contamination='auto', random_state=42)\n",
    "\n",
    "# Fit the model to the data\n",
    "# Isolation Forest trains on the entire dataset to find anomalies.\n",
    "isolation_forest.fit(X_anomaly)\n",
    "\n",
    "# Predict anomalies\n",
    "# predict returns -1 for outliers and 1 for inliers.\n",
    "# We want to identify the outliers (-1).\n",
    "df['isolation_forest_anomaly'] = isolation_forest.predict(X_anomaly)\n",
    "\n",
    "# Convert predictions to a more intuitive format: 1 for anomaly, 0 for normal\n",
    "df['isolation_forest_anomaly'] = df['isolation_forest_anomaly'].map({-1: 1, 1: 0})\n",
    "\n",
    "# Display the number of anomalies detected by Isolation Forest\n",
    "print(\"Number of anomalies detected by Isolation Forest:\", df['isolation_forest_anomaly'].sum())\n",
    "\n",
    "# Compare Isolation Forest anomalies with the defined failure flags\n",
    "print(\"\\nComparison of Isolation Forest anomalies and defined failure flags:\")\n",
    "\n",
    "# Create a combined failure flag for any temperature sensor failure\n",
    "df['any_temp_failure'] = df[temperature_failure_flags].max(axis=1)\n",
    "\n",
    "# Calculate a confusion matrix or cross-tabulation\n",
    "comparison_table = pd.crosstab(df['isolation_forest_anomaly'], df['any_temp_failure'],\n",
    "                               rownames=['Isolation Forest Anomaly'], colnames=['Defined Failure Flag'])\n",
    "print(comparison_table)\n",
    "\n",
    "# Note: This comparison is a concept simulation. Isolation Forest is unsupervised\n",
    "# and identifies statistical outliers based on the feature distribution.\n",
    "# The defined failure flags are based on a specific domain-knowledge-driven rule.\n",
    "# The two might not perfectly align. The table shows how many instances flagged by Isolation Forest\n",
    "# were also flagged by your rule, and vice versa.\n",
    "\n",
    "# Visualize a sample of data points, highlighting Isolation Forest anomalies\n",
    "# Select a subset of features for visualization\n",
    "viz_features = ['enginegastemperature1', 'enginegastemperature2'] # Example\n",
    "plt.figure(figsize=(15, 7))\n",
    "# Plot normal points\n",
    "plt.scatter(df.index[df['isolation_forest_anomaly'] == 0], df[viz_features[0]][df['isolation_forest_anomaly'] == 0],\n",
    "            c='blue', s=10, label='Normal')\n",
    "# Plot anomalies\n",
    "plt.scatter(df.index[df['isolation_forest_anomaly'] == 1], df[viz_features[0]][df['isolation_forest_anomaly'] == 1],\n",
    "            c='red', s=20, label='Anomaly (Isolation Forest)')\n",
    "plt.title(f'Isolation Forest Anomaly Detection on {viz_features[0]} over Time')\n",
    "plt.xlabel('Time')\n",
    "plt.ylabel(viz_features[0])\n",
    "plt.legend()\n",
    "plt.show()\n",
    "\n",
    "# You can repeat the visualization for other sensors or combinations of features."
   ]
  },
  {
   "cell_type": "code",
   "execution_count": null,
   "id": "45190877-cc94-460d-98b5-886f6a79a9f4",
   "metadata": {},
   "outputs": [],
   "source": []
  }
 ],
 "metadata": {
  "kernelspec": {
   "display_name": "Python 3 (ipykernel)",
   "language": "python",
   "name": "python3"
  },
  "language_info": {
   "codemirror_mode": {
    "name": "ipython",
    "version": 3
   },
   "file_extension": ".py",
   "mimetype": "text/x-python",
   "name": "python",
   "nbconvert_exporter": "python",
   "pygments_lexer": "ipython3",
   "version": "3.12.7"
  }
 },
 "nbformat": 4,
 "nbformat_minor": 5
}
