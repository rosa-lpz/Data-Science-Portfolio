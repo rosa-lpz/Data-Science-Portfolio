{
 "cells": [
  {
   "cell_type": "markdown",
   "id": "577782bb-eb66-49ea-a0d2-2f636a06b7e7",
   "metadata": {},
   "source": [
    "# Feature Engineering"
   ]
  },
  {
   "cell_type": "code",
   "execution_count": 1,
   "id": "f884c0aa-08c4-45db-973a-649d6a3901a3",
   "metadata": {},
   "outputs": [
    {
     "name": "stdout",
     "output_type": "stream",
     "text": [
      "Defaulting to user installation because normal site-packages is not writeable\n",
      "Requirement already satisfied: plotly in /programs/anaconda3/lib/python3.12/site-packages (5.24.1)\n",
      "Requirement already satisfied: tenacity>=6.2.0 in /programs/anaconda3/lib/python3.12/site-packages (from plotly) (8.2.3)\n",
      "Requirement already satisfied: packaging in /programs/anaconda3/lib/python3.12/site-packages (from plotly) (24.1)\n"
     ]
    }
   ],
   "source": [
    "import pandas as pd\n",
    "import os\n",
    "import matplotlib.pyplot as plt\n",
    "import seaborn as sns\n",
    "\n",
    "\n",
    "!pip install plotly\n",
    "import plotly.graph_objects as go\n",
    "from plotly.subplots import make_subplots"
   ]
  },
  {
   "cell_type": "code",
   "execution_count": 4,
   "id": "bf02998d-1bb8-4b8e-ab70-faeed8c5e4f3",
   "metadata": {},
   "outputs": [],
   "source": [
    "%run \"variables.py\""
   ]
  },
  {
   "cell_type": "code",
   "execution_count": 3,
   "id": "c76230e1-34fd-4241-b77c-d0cbd4fabd01",
   "metadata": {},
   "outputs": [],
   "source": [
    "%run \"functions.ipynb\""
   ]
  },
  {
   "cell_type": "markdown",
   "id": "306c5684-a86c-4f31-aaa9-40dde7f098fe",
   "metadata": {},
   "source": [
    "# Data loading\n",
    "\n",
    "Load the two CSV files, pred_maint_timeseries_with_failures.csv into pandas DataFrame."
   ]
  },
  {
   "cell_type": "code",
   "execution_count": 5,
   "id": "74a28d85-bc2b-4e48-90a8-23da9b8789eb",
   "metadata": {},
   "outputs": [
    {
     "data": {
      "text/html": [
       "<div>\n",
       "<style scoped>\n",
       "    .dataframe tbody tr th:only-of-type {\n",
       "        vertical-align: middle;\n",
       "    }\n",
       "\n",
       "    .dataframe tbody tr th {\n",
       "        vertical-align: top;\n",
       "    }\n",
       "\n",
       "    .dataframe thead th {\n",
       "        text-align: right;\n",
       "    }\n",
       "</style>\n",
       "<table border=\"1\" class=\"dataframe\">\n",
       "  <thead>\n",
       "    <tr style=\"text-align: right;\">\n",
       "      <th></th>\n",
       "      <th>machineid</th>\n",
       "      <th>datetimestamp</th>\n",
       "      <th>enginegastemperature1</th>\n",
       "      <th>enginegastemperature2</th>\n",
       "      <th>enginegastemperature3</th>\n",
       "      <th>enginegastemperature4</th>\n",
       "      <th>enginegastemperature5</th>\n",
       "      <th>enginegastemperature6</th>\n",
       "      <th>pressure</th>\n",
       "    </tr>\n",
       "  </thead>\n",
       "  <tbody>\n",
       "    <tr>\n",
       "      <th>0</th>\n",
       "      <td>1</td>\n",
       "      <td>2025-01-01 00:00:00</td>\n",
       "      <td>302.483571</td>\n",
       "      <td>385.408617</td>\n",
       "      <td>303.238443</td>\n",
       "      <td>307.615149</td>\n",
       "      <td>298.829233</td>\n",
       "      <td>298.829315</td>\n",
       "      <td>103.158426</td>\n",
       "    </tr>\n",
       "    <tr>\n",
       "      <th>1</th>\n",
       "      <td>1</td>\n",
       "      <td>2025-01-01 00:10:00</td>\n",
       "      <td>303.837174</td>\n",
       "      <td>300.111109</td>\n",
       "      <td>297.861035</td>\n",
       "      <td>297.340913</td>\n",
       "      <td>299.412622</td>\n",
       "      <td>301.110395</td>\n",
       "      <td>98.464047</td>\n",
       "    </tr>\n",
       "    <tr>\n",
       "      <th>2</th>\n",
       "      <td>1</td>\n",
       "      <td>2025-01-01 00:20:00</td>\n",
       "      <td>299.877724</td>\n",
       "      <td>301.777757</td>\n",
       "      <td>302.085056</td>\n",
       "      <td>304.162309</td>\n",
       "      <td>298.533004</td>\n",
       "      <td>299.850807</td>\n",
       "      <td>100.190252</td>\n",
       "    </tr>\n",
       "    <tr>\n",
       "      <th>3</th>\n",
       "      <td>1</td>\n",
       "      <td>2025-01-01 00:30:00</td>\n",
       "      <td>303.323272</td>\n",
       "      <td>303.895963</td>\n",
       "      <td>294.494511</td>\n",
       "      <td>305.651141</td>\n",
       "      <td>301.865595</td>\n",
       "      <td>298.067635</td>\n",
       "      <td>97.682460</td>\n",
       "    </tr>\n",
       "    <tr>\n",
       "      <th>4</th>\n",
       "      <td>1</td>\n",
       "      <td>2025-01-01 00:40:00</td>\n",
       "      <td>297.766293</td>\n",
       "      <td>307.621208</td>\n",
       "      <td>301.614999</td>\n",
       "      <td>293.032915</td>\n",
       "      <td>289.108329</td>\n",
       "      <td>294.780518</td>\n",
       "      <td>100.345387</td>\n",
       "    </tr>\n",
       "  </tbody>\n",
       "</table>\n",
       "</div>"
      ],
      "text/plain": [
       "   machineid        datetimestamp  enginegastemperature1  \\\n",
       "0          1  2025-01-01 00:00:00             302.483571   \n",
       "1          1  2025-01-01 00:10:00             303.837174   \n",
       "2          1  2025-01-01 00:20:00             299.877724   \n",
       "3          1  2025-01-01 00:30:00             303.323272   \n",
       "4          1  2025-01-01 00:40:00             297.766293   \n",
       "\n",
       "   enginegastemperature2  enginegastemperature3  enginegastemperature4  \\\n",
       "0             385.408617             303.238443             307.615149   \n",
       "1             300.111109             297.861035             297.340913   \n",
       "2             301.777757             302.085056             304.162309   \n",
       "3             303.895963             294.494511             305.651141   \n",
       "4             307.621208             301.614999             293.032915   \n",
       "\n",
       "   enginegastemperature5  enginegastemperature6    pressure  \n",
       "0             298.829233             298.829315  103.158426  \n",
       "1             299.412622             301.110395   98.464047  \n",
       "2             298.533004             299.850807  100.190252  \n",
       "3             301.865595             298.067635   97.682460  \n",
       "4             289.108329             294.780518  100.345387  "
      ]
     },
     "metadata": {},
     "output_type": "display_data"
    }
   ],
   "source": [
    "# df = pd.read_csv(f'{DATA_DIR}/pred_maint_timeseries_with_failures.csv')\n",
    "df = pd.read_csv(f'{DATA_DIR}/pred_maint_yearly_timeseries.csv')\n",
    "display(df.head())"
   ]
  },
  {
   "cell_type": "code",
   "execution_count": null,
   "id": "67494239-c3c0-4d6b-92a1-aee2c8dcf1b8",
   "metadata": {},
   "outputs": [],
   "source": []
  }
 ],
 "metadata": {
  "kernelspec": {
   "display_name": "Python 3 (ipykernel)",
   "language": "python",
   "name": "python3"
  },
  "language_info": {
   "codemirror_mode": {
    "name": "ipython",
    "version": 3
   },
   "file_extension": ".py",
   "mimetype": "text/x-python",
   "name": "python",
   "nbconvert_exporter": "python",
   "pygments_lexer": "ipython3",
   "version": "3.12.7"
  }
 },
 "nbformat": 4,
 "nbformat_minor": 5
}
