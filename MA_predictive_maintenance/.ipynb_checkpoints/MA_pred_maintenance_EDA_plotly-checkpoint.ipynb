{
 "cells": [
  {
   "cell_type": "markdown",
   "metadata": {
    "id": "NS7djQTpIh0S"
   },
   "source": [
    "# Task\n",
    "Join PdM_telemetry.csv and PdM_machines.csv using machineID.\n",
    "\n",
    "Perform time series Exploratory Data Analysis (EDA). Use plotly for data visualizations (Create time series plots, Time series plots and correlation heatmap using plotly)\n",
    "\n",
    "Here is all the data you need:\n",
    "\"PdM_machines.csv\"\n",
    "\"PdM_telemetry.csv\""
   ]
  },
  {
   "cell_type": "markdown",
   "metadata": {
    "id": "5rkt3TylIi8M"
   },
   "source": [
    "## Data loading\n",
    "\n",
    "### Subtask:\n",
    "Load the two CSV files, \"PdM_machines.csv\" and \"PdM_telemetry.csv\", into pandas DataFrames.\n"
   ]
  },
  {
   "cell_type": "markdown",
   "metadata": {
    "id": "Ls-Xxs0vIjaH"
   },
   "source": [
    "**Reasoning**:\n",
    "Load the two CSV files into pandas DataFrames and display the first 5 rows of each.\n",
    "\n"
   ]
  },
  {
   "cell_type": "code",
   "execution_count": null,
   "metadata": {
    "colab": {
     "base_uri": "https://localhost:8080/",
     "height": 395
    },
    "id": "QjGZIdefIjp4",
    "outputId": "03ba1378-a70d-471d-dae6-7871dba6bf19"
   },
   "outputs": [],
   "source": [
    "import pandas as pd\n",
    "\n",
    "machines_df = pd.read_csv('PdM_machines.csv')\n",
    "telemetry_df = pd.read_csv('PdM_telemetry.csv')\n",
    "\n",
    "display(machines_df.head())\n",
    "display(telemetry_df.head())"
   ]
  },
  {
   "cell_type": "markdown",
   "metadata": {
    "id": "QqvYr3brIn0o"
   },
   "source": [
    "## Data preparation\n",
    "\n",
    "### Subtask:\n",
    "Join the `machines_df` and `telemetry_df` DataFrames.\n"
   ]
  },
  {
   "cell_type": "markdown",
   "metadata": {
    "id": "4zweXAOAIoaU"
   },
   "source": [
    "**Reasoning**:\n",
    "Merge the two dataframes and display the first few rows and shape of the merged dataframe.\n",
    "\n"
   ]
  },
  {
   "cell_type": "code",
   "execution_count": null,
   "metadata": {
    "colab": {
     "base_uri": "https://localhost:8080/",
     "height": 224
    },
    "id": "nHRPLIrJIop_",
    "outputId": "96e1b677-d100-4f35-bb50-9f47b6d98006"
   },
   "outputs": [],
   "source": [
    "# Merge the two dataframes\n",
    "merged_df = pd.merge(telemetry_df, machines_df, on='machineID', how='inner')\n",
    "\n",
    "# Display the first few rows of the merged dataframe\n",
    "display(merged_df.head())\n",
    "\n",
    "# Print the shape of the merged dataframe\n",
    "print(merged_df.shape)"
   ]
  },
  {
   "cell_type": "markdown",
   "metadata": {
    "id": "eaqvgA7sIr8i"
   },
   "source": [
    "## Data exploration\n",
    "\n",
    "### Subtask:\n",
    "Explore the merged dataframe `merged_df`, focusing on time-related columns.\n"
   ]
  },
  {
   "cell_type": "markdown",
   "metadata": {
    "id": "0F43HnfqIskh"
   },
   "source": [
    "**Reasoning**:\n",
    "Examine the data types of the columns in `merged_df`, check for missing values, especially in the timestamp column, and calculate descriptive statistics for numeric columns.\n",
    "\n"
   ]
  },
  {
   "cell_type": "code",
   "execution_count": null,
   "metadata": {
    "colab": {
     "base_uri": "https://localhost:8080/"
    },
    "id": "b-NpLKulIs0N",
    "outputId": "df2609ea-0b04-4fb4-8f4a-2aeeaf5fb375"
   },
   "outputs": [],
   "source": [
    "# Check data types\n",
    "print(merged_df.dtypes)\n",
    "\n",
    "# Check for missing values\n",
    "print(merged_df.isnull().sum())\n",
    "\n",
    "# Descriptive statistics for numeric columns\n",
    "print(merged_df.describe())\n",
    "\n",
    "# Descriptive statistics grouped by machineID\n",
    "print(merged_df.groupby('machineID').describe())\n",
    "\n",
    "# Convert 'datetime' to datetime objects if it's not already\n",
    "if merged_df['datetime'].dtype != 'datetime64[ns]':\n",
    "    merged_df['datetime'] = pd.to_datetime(merged_df['datetime'])\n",
    "\n",
    "# Analyze the distribution of the timestamp column\n",
    "print(merged_df['datetime'].describe())\n",
    "\n",
    "# Time range of data\n",
    "print(f\"Minimum datetime: {merged_df['datetime'].min()}\")\n",
    "print(f\"Maximum datetime: {merged_df['datetime'].max()}\")"
   ]
  },
  {
   "cell_type": "markdown",
   "metadata": {
    "id": "benUtkE2IuYw"
   },
   "source": [
    "**Reasoning**:\n",
    "The previous code block showed that the 'datetime' column is of object type. It needs to be converted to datetime objects for proper time series analysis. Also, the descriptive statistics grouped by machineID are not very informative in the current format.  We need to plot the distributions of sensor readings grouped by machineID to better understand their variations across different machines.\n",
    "\n"
   ]
  },
  {
   "cell_type": "code",
   "execution_count": null,
   "metadata": {
    "colab": {
     "base_uri": "https://localhost:8080/",
     "height": 1000
    },
    "id": "ueuv5jchIuoc",
    "outputId": "34b563f8-2767-4993-f13a-caf8cba82c12"
   },
   "outputs": [],
   "source": [
    "import matplotlib.pyplot as plt\n",
    "import seaborn as sns\n",
    "\n",
    "# Convert 'datetime' column to datetime objects if it's not already\n",
    "if merged_df['datetime'].dtype != 'datetime64[ns]':\n",
    "    merged_df['datetime'] = pd.to_datetime(merged_df['datetime'])\n",
    "\n",
    "# Analyze the distribution of the timestamp column\n",
    "print(merged_df['datetime'].describe())\n",
    "\n",
    "# Time range of data\n",
    "print(f\"Minimum datetime: {merged_df['datetime'].min()}\")\n",
    "print(f\"Maximum datetime: {merged_df['datetime'].max()}\")\n",
    "\n",
    "# Plot distributions of sensor readings grouped by machineID\n",
    "numeric_cols = ['volt', 'rotate', 'pressure', 'vibration']\n",
    "plt.figure(figsize=(15, 10))\n",
    "for i, col in enumerate(numeric_cols):\n",
    "    plt.subplot(2, 2, i + 1)\n",
    "    sns.histplot(data=merged_df, x=col, hue='machineID', kde=True, element=\"step\")\n",
    "    plt.title(f'Distribution of {col} by machineID')\n",
    "plt.tight_layout()\n",
    "plt.show()"
   ]
  },
  {
   "cell_type": "markdown",
   "metadata": {
    "id": "_eyZM5EnI4RX"
   },
   "source": [
    "## Data wrangling\n",
    "\n",
    "### Subtask:\n",
    "Data Wrangling: Prepare the merged dataframe for time series analysis.\n"
   ]
  },
  {
   "cell_type": "markdown",
   "metadata": {
    "id": "1XONEBIdI4uO"
   },
   "source": [
    "**Reasoning**:\n",
    "Convert the 'datetime' column to datetime objects, set it as the index, and create new time-based features.\n",
    "\n"
   ]
  },
  {
   "cell_type": "code",
   "execution_count": null,
   "metadata": {
    "colab": {
     "base_uri": "https://localhost:8080/"
    },
    "id": "ihGmA36GI49_",
    "outputId": "03c30110-9851-4f51-868d-377dd11aefff"
   },
   "outputs": [],
   "source": [
    "# Convert 'datetime' column to datetime objects if it's not already\n",
    "if merged_df['datetime'].dtype != 'datetime64[ns]':\n",
    "    merged_df['datetime'] = pd.to_datetime(merged_df['datetime'])\n",
    "\n",
    "# Set 'datetime' column as index\n",
    "merged_df = merged_df.set_index('datetime')\n",
    "\n",
    "# Create new features from the datetime index\n",
    "merged_df['day_of_week'] = merged_df.index.dayofweek\n",
    "merged_df['hour_of_day'] = merged_df.index.hour\n",
    "merged_df['month'] = merged_df.index.month\n",
    "merged_df['week_of_year'] = merged_df.index.isocalendar().week\n",
    "\n",
    "# Verify data types\n",
    "print(merged_df.dtypes)"
   ]
  },
  {
   "cell_type": "markdown",
   "metadata": {
    "id": "rYhEeJ86I7TF"
   },
   "source": [
    "## Data visualization\n",
    "\n",
    "### Subtask:\n",
    "Create time series plots for key variables (volt, rotate, pressure, vibration) using Plotly.\n"
   ]
  },
  {
   "cell_type": "markdown",
   "metadata": {
    "id": "2-m3Rw5II7v2"
   },
   "source": [
    "**Reasoning**:\n",
    "Create time series plots for 'volt', 'rotate', 'pressure', and 'vibration' using Plotly.\n",
    "\n"
   ]
  },
  {
   "cell_type": "code",
   "execution_count": null,
   "metadata": {
    "colab": {
     "base_uri": "https://localhost:8080/",
     "height": 1000
    },
    "id": "PpuL8XdlI7_k",
    "outputId": "d2941680-c048-41ad-abd4-57b3bfa9b046"
   },
   "outputs": [],
   "source": [
    "import plotly.express as px\n",
    "\n",
    "# Create time series plots for key variables\n",
    "variables = ['volt', 'rotate', 'pressure', 'vibration']\n",
    "for var in variables:\n",
    "    fig = px.line(merged_df, y=var, title=f'Time Series Plot of {var}',\n",
    "                  labels={'value': var, 'datetime': 'Date and Time'})\n",
    "    fig.update_xaxes(rangeslider_visible=True)  # Add interactive range slider\n",
    "    fig.show()"
   ]
  },
  {
   "cell_type": "markdown",
   "metadata": {
    "id": "2Di8_fQoJI5G"
   },
   "source": [
    "## Data visualization\n",
    "\n",
    "### Subtask:\n",
    "Generate a correlation heatmap of the variables in `merged_df` using Plotly.\n"
   ]
  },
  {
   "cell_type": "markdown",
   "metadata": {
    "id": "YUYRKkkCJJUH"
   },
   "source": [
    "**Reasoning**:\n",
    "Calculate the correlation matrix and generate the heatmap using Plotly.\n",
    "\n"
   ]
  },
  {
   "cell_type": "code",
   "execution_count": null,
   "metadata": {
    "colab": {
     "base_uri": "https://localhost:8080/",
     "height": 617
    },
    "id": "6WF9hg9WJJj8",
    "outputId": "bfb3e20c-de61-42a5-d7e1-de06ca03d637"
   },
   "outputs": [],
   "source": [
    "import plotly.express as px\n",
    "import pandas as pd\n",
    "import numpy as np\n",
    "\n",
    "# Calculate the correlation matrix\n",
    "numeric_cols = merged_df.select_dtypes(include=np.number).columns\n",
    "numeric_cols = numeric_cols.drop('machineID') # Exclude machineID\n",
    "correlation_matrix = merged_df[numeric_cols].corr()\n",
    "\n",
    "# Create the heatmap\n",
    "fig = px.imshow(correlation_matrix,\n",
    "                x=correlation_matrix.columns,\n",
    "                y=correlation_matrix.index,\n",
    "                color_continuous_scale='RdBu',  # Use a diverging color scale\n",
    "                title='Correlation Heatmap of Numerical Variables')\n",
    "fig.update_layout(width=800, height=600) # Adjust figure size for better visualization\n",
    "fig.show()"
   ]
  },
  {
   "cell_type": "markdown",
   "metadata": {
    "id": "zGMI0o6uJMzo"
   },
   "source": [
    "## Data analysis\n",
    "\n",
    "### Subtask:\n",
    "Perform time series decomposition on relevant variables (volt, rotate, pressure, vibration) to identify trends, seasonality, and residuals.\n"
   ]
  },
  {
   "cell_type": "markdown",
   "metadata": {
    "id": "sI6eZpX9JNo4"
   },
   "source": [
    "**Reasoning**:\n",
    "Decompose the time series data for the specified variables and plot the results.\n",
    "\n"
   ]
  },
  {
   "cell_type": "code",
   "execution_count": null,
   "metadata": {
    "colab": {
     "base_uri": "https://localhost:8080/",
     "height": 1000
    },
    "id": "I93PokJuJN4t",
    "outputId": "6350bd93-efa4-495c-f8db-34a90a001240"
   },
   "outputs": [],
   "source": [
    "from statsmodels.tsa.seasonal import seasonal_decompose\n",
    "import matplotlib.pyplot as plt\n",
    "\n",
    "# Iterate through the relevant variables\n",
    "variables = ['volt', 'rotate', 'pressure', 'vibration']\n",
    "for var in variables:\n",
    "    # Perform seasonal decomposition\n",
    "    decomposition = seasonal_decompose(merged_df[var], model='additive', period=24)  # Assuming daily seasonality\n",
    "\n",
    "    # Plot the decomposed components\n",
    "    plt.figure(figsize=(12, 8))\n",
    "    plt.subplot(4, 1, 1)\n",
    "    plt.plot(decomposition.observed)\n",
    "    plt.title(f'Observed {var}')\n",
    "    plt.subplot(4, 1, 2)\n",
    "    plt.plot(decomposition.trend)\n",
    "    plt.title(f'Trend {var}')\n",
    "    plt.subplot(4, 1, 3)\n",
    "    plt.plot(decomposition.seasonal)\n",
    "    plt.title(f'Seasonality {var}')\n",
    "    plt.subplot(4, 1, 4)\n",
    "    plt.plot(decomposition.resid)\n",
    "    plt.title(f'Residuals {var}')\n",
    "    plt.tight_layout()\n",
    "    plt.show()\n",
    "\n",
    "    # Analyze the plots and document observations (example)\n",
    "    print(f\"Analysis of {var}:\")\n",
    "    print(\"Trend: \", end=\"\") # Add your trend observation here\n",
    "    print(\"Seasonality: \", end=\"\") # Add your seasonality observation here\n",
    "    print(\"Residuals: \", end=\"\") # Add your residual observation here\n",
    "    print(\"-\" * 20)"
   ]
  },
  {
   "cell_type": "markdown",
   "metadata": {
    "id": "7r2hfM7UJokp"
   },
   "source": [
    "## Summary:\n",
    "\n",
    "### Q&A\n",
    "No questions were posed in the provided task.\n",
    "\n",
    "### Data Analysis Key Findings\n",
    "*   The `PdM_telemetry.csv` and `PdM_machines.csv` datasets were successfully merged on `machineID` resulting in a combined dataset with 876100 rows and 8 columns.\n",
    "*   No missing values were found in the merged dataset.\n",
    "*   Time series plots of `volt`, `rotate`, `pressure`, and `vibration` were generated, revealing the trends of these variables over time.  An interactive range slider was included for detailed exploration.\n",
    "*   A correlation heatmap visualized the relationships between the numerical variables in the dataset, excluding `machineID`.\n",
    "*   Time series decomposition was performed on `volt`, `rotate`, `pressure`, and `vibration` to identify trends, seasonality, and residuals.  However, the provided output lacks the analysis of the generated plots.\n",
    "*   New time-based features (`day_of_week`, `hour_of_day`, `month`, `week_of_year`) were engineered from the datetime index.\n",
    "\n",
    "\n",
    "### Insights or Next Steps\n",
    "*   Analyze the trend, seasonality, and residuals from the time series decomposition plots to gain a deeper understanding of the underlying patterns in the data.  Look for anomalies in the residuals.\n",
    "*   Investigate the correlations between the variables identified in the correlation heatmap to understand potential interdependencies.  Consider feature engineering based on these relationships.\n"
   ]
  },
  {
   "cell_type": "code",
   "execution_count": null,
   "metadata": {
    "id": "mDh83JHhQScg"
   },
   "outputs": [],
   "source": []
  },
  {
   "cell_type": "markdown",
   "metadata": {
    "id": "QPWhYYSHQT1n"
   },
   "source": [
    "## plotly"
   ]
  },
  {
   "cell_type": "code",
   "execution_count": null,
   "metadata": {
    "colab": {
     "base_uri": "https://localhost:8080/",
     "height": 1000
    },
    "id": "87wEHweIQVGd",
    "outputId": "f142dd88-7779-4717-e27e-262b1312f1eb"
   },
   "outputs": [],
   "source": [
    "from statsmodels.tsa.seasonal import seasonal_decompose\n",
    "import plotly.graph_objects as go\n",
    "from plotly.subplots import make_subplots\n",
    "\n",
    "# Iterate through the relevant variables\n",
    "variables = ['volt', 'rotate', 'pressure', 'vibration']\n",
    "for var in variables:\n",
    "    # Perform seasonal decomposition\n",
    "    # Assuming daily seasonality, adjust 'period' if needed\n",
    "    decomposition = seasonal_decompose(merged_df[var], model='additive', period=24)\n",
    "\n",
    "    # Create subplots using Plotly\n",
    "    fig = make_subplots(rows=4, cols=1, subplot_titles=[f'Observed {var}', f'Trend {var}', f'Seasonality {var}', f'Residuals {var}'])\n",
    "\n",
    "    # Add observed data\n",
    "    fig.add_trace(go.Scatter(x=decomposition.observed.index, y=decomposition.observed.values, mode='lines', name='Observed'), row=1, col=1)\n",
    "\n",
    "    # Add trend component\n",
    "    fig.add_trace(go.Scatter(x=decomposition.trend.index, y=decomposition.trend.values, mode='lines', name='Trend'), row=2, col=1)\n",
    "\n",
    "    # Add seasonal component\n",
    "    fig.add_trace(go.Scatter(x=decomposition.seasonal.index, y=decomposition.seasonal.values, mode='lines', name='Seasonality'), row=3, col=1)\n",
    "\n",
    "    # Add residuals\n",
    "    fig.add_trace(go.Scatter(x=decomposition.resid.index, y=decomposition.resid.values, mode='lines', name='Residuals'), row=4, col=1)\n",
    "\n",
    "    # Update layout\n",
    "    fig.update_layout(height=800, title_text=f'Time Series Decomposition of {var}')\n",
    "    fig.show()\n",
    "\n",
    "    # Analyze the plots and document observations (example)\n",
    "    print(f\"Analysis of {var}:\")\n",
    "    print(\"Trend: \", end=\"\") # Add your trend observation here\n",
    "    print(\"Seasonality: \", end=\"\") # Add your seasonality observation here\n",
    "    print(\"Residuals: \", end=\"\") # Add your residual observation here\n",
    "    print(\"-\" * 20)"
   ]
  }
 ],
 "metadata": {
  "colab": {
   "provenance": []
  },
  "kernelspec": {
   "display_name": "Python 3 (ipykernel)",
   "language": "python",
   "name": "python3"
  },
  "language_info": {
   "codemirror_mode": {
    "name": "ipython",
    "version": 3
   },
   "file_extension": ".py",
   "mimetype": "text/x-python",
   "name": "python",
   "nbconvert_exporter": "python",
   "pygments_lexer": "ipython3",
   "version": "3.12.7"
  }
 },
 "nbformat": 4,
 "nbformat_minor": 4
}
