{
 "cells": [
  {
   "cell_type": "markdown",
   "id": "459f7a6d-6da9-462a-832b-5c604685ced7",
   "metadata": {},
   "source": [
    "# Libraries"
   ]
  },
  {
   "cell_type": "code",
   "execution_count": 3,
   "id": "b886d760-a42b-4994-8b5b-4ff9bd2c49c2",
   "metadata": {},
   "outputs": [],
   "source": [
    "import pandas as pd\n",
    "import os"
   ]
  },
  {
   "cell_type": "markdown",
   "id": "e0dad6ef-813a-479b-91f8-ba4f94b296fd",
   "metadata": {},
   "source": [
    "# Data Import"
   ]
  },
  {
   "cell_type": "markdown",
   "id": "a3111ae5-7afc-48a8-a64e-2b7842415e71",
   "metadata": {},
   "source": [
    "## Get data and create dataframes"
   ]
  },
  {
   "cell_type": "code",
   "execution_count": 54,
   "id": "18a0e61c-ea8a-4a94-9261-ace2926cd565",
   "metadata": {},
   "outputs": [],
   "source": [
    "def getDataFrames(files_names, data_dir):\n",
    "    \"\"\"\n",
    "    Reads multiple CSV files and returns a list of DataFrames.\n",
    "\n",
    "    Parameters:\n",
    "        file_name_pairs (list of tuples): Each tuple contains (file_name, df_name) — df_name is ignored here.\n",
    "        data_dir (str): Directory where the CSV files are stored.\n",
    "\n",
    "    Returns:\n",
    "        list: List of pandas DataFrames.\n",
    "    \"\"\"\n",
    "    dataframes = {}\n",
    "\n",
    "    for file_name, df_name in files_names:\n",
    "        try:\n",
    "            file_path = os.path.join(data_dir, file_name)\n",
    "            df = pd.read_csv(file_path)\n",
    "            dataframes[df_name] = df\n",
    "        except FileNotFoundError:\n",
    "            print(f\"File not found: {file_name}\")\n",
    "        except Exception as e:\n",
    "            print(f\"Error reading {file_name}: {e}\")\n",
    "\n",
    "    return dataframes"
   ]
  },
  {
   "cell_type": "markdown",
   "id": "70e9c397-e92e-426c-b432-55ea7f3be1eb",
   "metadata": {},
   "source": [
    "## Show all DataFrames"
   ]
  },
  {
   "cell_type": "code",
   "execution_count": 28,
   "id": "cf4b14f3-3883-4cee-9e64-0d68a35e75bf",
   "metadata": {},
   "outputs": [],
   "source": [
    "def showDataFrame(files_names):\n",
    "    #Import and print data  \n",
    "    try:\n",
    "        # Loop through the files and read them\n",
    "        for file_name, df_name in files_names:\n",
    "            df = pd.read_csv(f\"{DATA_DIR}{file_name}\")\n",
    "            print(f\"{df_name} DataFrame \\n\")\n",
    "            display(df.head())\n",
    "            \n",
    "    except FileNotFoundError:\n",
    "        print(\"One or more CSV files not found.\")\n",
    "    except Exception as e:\n",
    "        print(f\"An error occurred: {e}\")"
   ]
  },
  {
   "cell_type": "markdown",
   "id": "dda4721f-3606-4ceb-a44e-7b2ce2decfb3",
   "metadata": {},
   "source": [
    "# Data exploration"
   ]
  },
  {
   "cell_type": "markdown",
   "id": "6f376afa-3f35-407a-8853-f70be2ba3bd0",
   "metadata": {},
   "source": [
    "## Shape, data types, missing values"
   ]
  },
  {
   "cell_type": "markdown",
   "id": "0a6733c1-6c6e-4dd1-8ff7-74f27d62f5b7",
   "metadata": {},
   "source": [
    "### Various dataframes"
   ]
  },
  {
   "cell_type": "markdown",
   "id": "24f77026-75c6-499f-9cd8-14f2adea6f44",
   "metadata": {},
   "source": [
    "```python\n",
    "#Function to explore a list of dataframes\n",
    "def exploreDataFrames(dataframe_list,dataframe_names):\n",
    "    for i, df in enumerate(dataframe_list):\n",
    "        print(f\"DataFrame: {dataframe_names[i]}\")\n",
    "        print(\"\\nShape:\", df.shape,\"\\n\")\n",
    "        print(\"\\nData Types:\\n\", df.dtypes, \"\\n\")\n",
    "        # print(\"\\nDescriptive Statistics:\\n\", df.describe(include='all'), \"\\n\")\n",
    "        print(\"\\nMissing Values:\\n\", df.isnull().sum(), \"\\n\")\n",
    "        print(\"-\" * 70)\n",
    "``` "
   ]
  },
  {
   "cell_type": "code",
   "execution_count": 59,
   "id": "b37e7a3a-aff0-437e-b684-9213b9d61d6c",
   "metadata": {},
   "outputs": [],
   "source": [
    "# Function to explore a dictionary of dataframes\n",
    "def exploreDataFrames(dataframe_dict):\n",
    "    for name, df in dataframe_dict.items():\n",
    "        print(f\"\\nDataFrame: {name}\")\n",
    "        print(\"Shape:\", df.shape)\n",
    "        print(\"\\nData Types:\\n\", df.dtypes)\n",
    "        #print(\"\\nDescriptive Statistics:\\n\", df.describe(include='all'))\n",
    "        print(\"\\nMissing Values:\\n\", df.isnull().sum())\n",
    "        print(\"-\" * 70)"
   ]
  },
  {
   "cell_type": "markdown",
   "id": "b636487b-32c0-4455-8e8c-d50daa812257",
   "metadata": {},
   "source": [
    "### Single dataframe"
   ]
  },
  {
   "cell_type": "code",
   "execution_count": 49,
   "id": "c60d49eb-498a-4988-aff3-879cec40d723",
   "metadata": {},
   "outputs": [],
   "source": [
    "# Function to explore a single DataFrame\n",
    "def exploreDataFrame(df, df_name):\n",
    "    print(f\"\\nExploring DataFrame: {df_name}\")\n",
    "    print(\"Shape:\", df.shape,\"\\n\")\n",
    "    print(\"Data Types:\\n\", df.dtypes, \"\\n\")\n",
    "    print(\"\\nDescriptive Statistics:\\n\", df.describe(include='all'), \"\\n\")\n",
    "    print(\"Missing Values:\\n\", df.isnull().sum(), \"\\n\")\n"
   ]
  },
  {
   "cell_type": "markdown",
   "id": "0eeb92ca-ade6-4f0b-9235-5f1e78d3c77a",
   "metadata": {},
   "source": [
    "## Analyze features\n",
    "* Numerical features and descriptive statistics\n",
    "* Categorical features (counts)"
   ]
  },
  {
   "cell_type": "markdown",
   "id": "46abff98-6f95-490f-84e0-03bc0eb3635e",
   "metadata": {},
   "source": [
    "### Various dataframes"
   ]
  },
  {
   "cell_type": "markdown",
   "id": "4c43647b-8888-41a7-b3d1-e5af1430aab2",
   "metadata": {},
   "source": [
    "```python\n",
    "# Analyze features from a list of dataframes\n",
    "def analyzeDFsFeatures(dataframe_list,dataframe_names):\n",
    "    for i, df in enumerate(dataframe_list):\n",
    "        print(f\"DataFrame: {dataframe_names[i]}\")\n",
    "\n",
    "        # Analyze Numerical Features\n",
    "        numerical_cols = df.select_dtypes(include=['number']).columns\n",
    "        if len(numerical_cols) > 0:\n",
    "            print(\"\\nNumerical Features:\")\n",
    "            print(df[numerical_cols].describe())\n",
    "        else:\n",
    "            print(\"\\nNo Numerical Features\")\n",
    "    \n",
    "        # Analyze Categorical Features\n",
    "        categorical_cols = df.select_dtypes(include=['object']).columns\n",
    "        for col in categorical_cols:\n",
    "            print(f\"\\nCategorical Feature: {col}\")\n",
    "            print(df[col].value_counts())\n",
    "        print(\"-\" * 50)\n",
    "```"
   ]
  },
  {
   "cell_type": "code",
   "execution_count": 63,
   "id": "f983e474-57cc-444f-a2cb-b76485805e2b",
   "metadata": {},
   "outputs": [],
   "source": [
    "# Analyze features from a dictionary of dataframes\n",
    "def analyzeDFsFeatures(dataframe_dict):\n",
    "    for name, df in dataframe_dict.items():\n",
    "        print(f\"\\nDataFrame: {name}\\n\")\n",
    "        # Analyze Numerical Features\n",
    "        numerical_cols = df.select_dtypes(include=['number']).columns\n",
    "        if len(numerical_cols) > 0:\n",
    "            print(\"\\nNumerical Features:\")\n",
    "            print(df[numerical_cols].describe())\n",
    "        else:\n",
    "            print(\"\\nNo Numerical Features\")\n",
    "    \n",
    "        # Analyze Categorical Features\n",
    "        categorical_cols = df.select_dtypes(include=['object']).columns\n",
    "        for col in categorical_cols:\n",
    "            print(f\"\\nCategorical Feature: {col}\")\n",
    "            print(df[col].value_counts())\n",
    "        print(\"-\" * 50)"
   ]
  },
  {
   "cell_type": "markdown",
   "id": "e7b44136-0dc8-4471-8584-a7c2da7b97ce",
   "metadata": {},
   "source": [
    "### Analyze a single dataframe"
   ]
  },
  {
   "cell_type": "code",
   "execution_count": 47,
   "id": "13614e7c-2866-4f4c-9c59-998e600281fa",
   "metadata": {},
   "outputs": [],
   "source": [
    "# Analyze features from a single dataframe\n",
    "def analyzeDFFeatures(df,df_name):\n",
    "    print(f\"DataFrame: {df_name}\\n\")\n",
    "    \n",
    "    # Analyze Numerical Features\n",
    "    numerical_cols = df.select_dtypes(include=['number']).columns\n",
    "    if len(numerical_cols) > 0:\n",
    "        print(\"\\nNumerical Features:\")\n",
    "        print(df[numerical_cols].describe())\n",
    "    else:\n",
    "        print(\"\\nNo Numerical Features\")\n",
    "\n",
    "    # Analyze Categorical Features\n",
    "    categorical_cols = df.select_dtypes(include=['object']).columns\n",
    "    for col in categorical_cols:\n",
    "        print(f\"\\nCategorical Feature: {col}\")\n",
    "        print(df[col].value_counts())\n",
    "    print(\"-\" * 70)"
   ]
  },
  {
   "cell_type": "markdown",
   "id": "6105996f-2028-489d-945f-9da607e91017",
   "metadata": {},
   "source": [
    "## Find outliers"
   ]
  },
  {
   "cell_type": "code",
   "execution_count": null,
   "id": "c378a3f3-4f4d-4725-a898-5a8dcb57e6a1",
   "metadata": {},
   "outputs": [],
   "source": [
    "# Function to explore a single DataFrame\n",
    "def exploreDataframe(df, df_name):\n",
    "    if df_name == 'df_telemetry':\n",
    "        # Check for outliers in telemetry data using IQR\n",
    "        numerical_cols = ['volt', 'rotate', 'pressure', 'vibration']\n",
    "        for col in numerical_cols:\n",
    "          Q1 = df[col].quantile(0.25)\n",
    "          Q3 = df[col].quantile(0.75)\n",
    "          IQR = Q3 - Q1\n",
    "          lower_bound = Q1 - 1.5 * IQR\n",
    "          upper_bound = Q3 + 1.5 * IQR\n",
    "          outliers = df[(df[col] < lower_bound) | (df[col] > upper_bound)]\n",
    "          print(f\"\\nPotential outliers in {col}:\\n\", outliers.shape[0])\n",
    "    else:\n",
    "        # For other dataframes, print a message indicating the need for domain knowledge or visualizations\n",
    "        print(\"\\nChecking for outliers in other dataframes requires domain knowledge or visualizations.\")"
   ]
  },
  {
   "cell_type": "markdown",
   "id": "15ef92c4-108c-42e9-b006-bdb7e1af3fbb",
   "metadata": {},
   "source": [
    "# Data Pre-processing"
   ]
  },
  {
   "cell_type": "markdown",
   "id": "da26ab5f-da36-4f27-802d-46964aa11855",
   "metadata": {
    "jp-MarkdownHeadingCollapsed": true
   },
   "source": [
    "## Telemetry"
   ]
  }
 ],
 "metadata": {
  "kernelspec": {
   "display_name": "Python 3 (ipykernel)",
   "language": "python",
   "name": "python3"
  },
  "language_info": {
   "codemirror_mode": {
    "name": "ipython",
    "version": 3
   },
   "file_extension": ".py",
   "mimetype": "text/x-python",
   "name": "python",
   "nbconvert_exporter": "python",
   "pygments_lexer": "ipython3",
   "version": "3.12.7"
  }
 },
 "nbformat": 4,
 "nbformat_minor": 5
}
