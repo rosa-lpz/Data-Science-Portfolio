{
 "cells": [
  {
   "cell_type": "markdown",
   "id": "459f7a6d-6da9-462a-832b-5c604685ced7",
   "metadata": {},
   "source": [
    "# Libraries"
   ]
  },
  {
   "cell_type": "code",
   "execution_count": 3,
   "id": "b886d760-a42b-4994-8b5b-4ff9bd2c49c2",
   "metadata": {},
   "outputs": [],
   "source": [
    "import pandas as pd"
   ]
  },
  {
   "cell_type": "markdown",
   "id": "e0dad6ef-813a-479b-91f8-ba4f94b296fd",
   "metadata": {},
   "source": [
    "# Data"
   ]
  },
  {
   "cell_type": "code",
   "execution_count": 7,
   "id": "59eb055b-9678-4e5d-8b60-bca96d94ee60",
   "metadata": {},
   "outputs": [],
   "source": [
    "#%run \"variables.py\""
   ]
  },
  {
   "cell_type": "code",
   "execution_count": 6,
   "id": "91d1726c-9a29-4ea6-9cd3-4bb554e94173",
   "metadata": {},
   "outputs": [],
   "source": [
    "def getData(file_names):\n",
    "    #Import and print data  \n",
    "    try:\n",
    "        # Loop through the files and read them\n",
    "        for file_name, df_name in file_names:\n",
    "            df = pd.read_csv(f\"{DATA_DIR}/{file_name}\")\n",
    "            print(f\"{df_name} DataFrame \\n\")\n",
    "            display(df.head())\n",
    "            \n",
    "    except FileNotFoundError:\n",
    "        print(\"One or more CSV files not found.\")\n",
    "    except Exception as e:\n",
    "        print(f\"An error occurred: {e}\")"
   ]
  },
  {
   "cell_type": "markdown",
   "id": "ebe78ec5-c517-4e27-a396-b2205ac90f00",
   "metadata": {},
   "source": [
    "## Initial dataframes"
   ]
  },
  {
   "cell_type": "code",
   "execution_count": null,
   "id": "c3cf2f77-4a0a-466d-b3b0-32a6f1d0692b",
   "metadata": {},
   "outputs": [],
   "source": []
  },
  {
   "cell_type": "markdown",
   "id": "dda4721f-3606-4ceb-a44e-7b2ce2decfb3",
   "metadata": {},
   "source": [
    "# Data exploration"
   ]
  },
  {
   "cell_type": "code",
   "execution_count": 8,
   "id": "c60d49eb-498a-4988-aff3-879cec40d723",
   "metadata": {},
   "outputs": [],
   "source": [
    "# Function to explore a single DataFrame\n",
    "def explore_dataframe(df, df_name):\n",
    "    print(f\"\\nExploring DataFrame: {df_name}\")\n",
    "    print(\"Shape:\", df.shape)\n",
    "    print(\"\\nData Types:\\n\", df.dtypes)\n",
    "    print(\"\\nDescriptive Statistics:\\n\", df.describe(include='all'))\n",
    "    print(\"\\nMissing Values:\\n\", df.isnull().sum())\n",
    "\n",
    "    if df_name == 'df_telemetry':\n",
    "        # Check for outliers in telemetry data using IQR\n",
    "        numerical_cols = ['volt', 'rotate', 'pressure', 'vibration']\n",
    "        for col in numerical_cols:\n",
    "          Q1 = df[col].quantile(0.25)\n",
    "          Q3 = df[col].quantile(0.75)\n",
    "          IQR = Q3 - Q1\n",
    "          lower_bound = Q1 - 1.5 * IQR\n",
    "          upper_bound = Q3 + 1.5 * IQR\n",
    "          outliers = df[(df[col] < lower_bound) | (df[col] > upper_bound)]\n",
    "          print(f\"\\nPotential outliers in {col}:\\n\", outliers.shape[0])\n",
    "    else:\n",
    "        # For other dataframes, print a message indicating the need for domain knowledge or visualizations\n",
    "        print(\"\\nChecking for outliers in other dataframes requires domain knowledge or visualizations.\")\n"
   ]
  },
  {
   "cell_type": "markdown",
   "id": "15ef92c4-108c-42e9-b006-bdb7e1af3fbb",
   "metadata": {},
   "source": [
    "# Data Pre-processing"
   ]
  },
  {
   "cell_type": "markdown",
   "id": "da26ab5f-da36-4f27-802d-46964aa11855",
   "metadata": {
    "jp-MarkdownHeadingCollapsed": true
   },
   "source": [
    "## Telemetry"
   ]
  }
 ],
 "metadata": {
  "kernelspec": {
   "display_name": "Python 3 (ipykernel)",
   "language": "python",
   "name": "python3"
  },
  "language_info": {
   "codemirror_mode": {
    "name": "ipython",
    "version": 3
   },
   "file_extension": ".py",
   "mimetype": "text/x-python",
   "name": "python",
   "nbconvert_exporter": "python",
   "pygments_lexer": "ipython3",
   "version": "3.12.7"
  }
 },
 "nbformat": 4,
 "nbformat_minor": 5
}
